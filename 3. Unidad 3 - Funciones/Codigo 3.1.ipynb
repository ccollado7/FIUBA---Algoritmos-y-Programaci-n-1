{
 "cells": [
  {
   "cell_type": "markdown",
   "metadata": {},
   "source": [
    "## Codigo 3.1\n",
    "\n",
    "Necesitamos un programa que permita transformar tres duraciones de tiempo en segundos\n"
   ]
  },
  {
   "cell_type": "code",
   "execution_count": 9,
   "metadata": {},
   "outputs": [],
   "source": [
    "#Defino una funcion que realice el calculo de horas, minutos y segundos a segundos\n",
    "\n",
    "def a_segundos(horas,minutos,segundos):\n",
    "    '''Transforma en segundos una medida de tiempo expresada en horas, minutos y segundos'''\n",
    "    return((3600*horas) + (60*minutos) + segundos)"
   ]
  },
  {
   "cell_type": "code",
   "execution_count": 10,
   "metadata": {},
   "outputs": [],
   "source": [
    "def main():\n",
    "    '''Lee tres tiempos expresados en horas,minutos y segundos y muestra en pantalla su conversion a segundos'''\n",
    "    for x in range(1,4):\n",
    "        h = int(input(\"Cuantas horas?: \"))\n",
    "        m = int(input(\"Cuantos minutos?: \"))\n",
    "        s = int(input(\"Cuantos segundos?: \"))\n",
    "        print(\"Para los valores ingresados en la \" + str(x) + \"° vez la conversion es: \" + str(a_segundos(h,m,s)) + \" segundos\")"
   ]
  },
  {
   "cell_type": "code",
   "execution_count": 8,
   "metadata": {},
   "outputs": [
    {
     "name": "stdout",
     "output_type": "stream",
     "text": [
      "Cuantas horas?: 1\n",
      "Cuantos minutos?: 0\n",
      "Cuantos segundos?: 0\n",
      "Para los valores ingresados en la 1° vez la conversion es: 3600 segundos\n",
      "Cuantas horas?: 0\n",
      "Cuantos minutos?: 1\n",
      "Cuantos segundos?: 0\n",
      "Para los valores ingresados en la 2° vez la conversion es: 60 segundos\n",
      "Cuantas horas?: 0\n",
      "Cuantos minutos?: 0\n",
      "Cuantos segundos?: 1\n",
      "Para los valores ingresados en la 3° vez la conversion es: 1 segundos\n"
     ]
    }
   ],
   "source": [
    "main()"
   ]
  }
 ],
 "metadata": {
  "kernelspec": {
   "display_name": "Python 3",
   "language": "python",
   "name": "python3"
  },
  "language_info": {
   "codemirror_mode": {
    "name": "ipython",
    "version": 3
   },
   "file_extension": ".py",
   "mimetype": "text/x-python",
   "name": "python",
   "nbconvert_exporter": "python",
   "pygments_lexer": "ipython3",
   "version": "3.7.1"
  }
 },
 "nbformat": 4,
 "nbformat_minor": 2
}
