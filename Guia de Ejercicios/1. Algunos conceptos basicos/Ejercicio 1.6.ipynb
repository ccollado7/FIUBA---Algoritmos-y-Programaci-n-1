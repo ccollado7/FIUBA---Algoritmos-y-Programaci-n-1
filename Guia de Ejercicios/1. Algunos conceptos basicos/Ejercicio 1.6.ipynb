{
 "cells": [
  {
   "cell_type": "markdown",
   "metadata": {},
   "source": [
    "### Ejercicio 1.6\n",
    "\n",
    "Escribir un programa que le pida una palabra al usuario, para luego imprimirla 1000 veces, en un unica linea, con espacios intermedio"
   ]
  },
  {
   "cell_type": "code",
   "execution_count": 3,
   "metadata": {},
   "outputs": [],
   "source": [
    "def palabra():\n",
    "    '''Esta funcion solicita que se ingrese una palabra y la devuelve impresa 1000 veces'''\n",
    "    palabra = input(\"Por favor ingrese la palabra: \")\n",
    "    for i in range(1001):\n",
    "        print(palabra,end= \" \")"
   ]
  },
  {
   "cell_type": "code",
   "execution_count": 4,
   "metadata": {},
   "outputs": [
    {
     "name": "stdout",
     "output_type": "stream",
     "text": [
      "Por favor ingrese la palabra: piedra\n",
      "piedra piedra piedra piedra piedra piedra piedra piedra piedra piedra piedra piedra piedra piedra piedra piedra piedra piedra piedra piedra piedra piedra piedra piedra piedra piedra piedra piedra piedra piedra piedra piedra piedra piedra piedra piedra piedra piedra piedra piedra piedra piedra piedra piedra piedra piedra piedra piedra piedra piedra piedra piedra piedra piedra piedra piedra piedra piedra piedra piedra piedra piedra piedra piedra piedra piedra piedra piedra piedra piedra piedra piedra piedra piedra piedra piedra piedra piedra piedra piedra piedra piedra piedra piedra piedra piedra piedra piedra piedra piedra piedra piedra piedra piedra piedra piedra piedra piedra piedra piedra piedra piedra piedra piedra piedra piedra piedra piedra piedra piedra piedra piedra piedra piedra piedra piedra piedra piedra piedra piedra piedra piedra piedra piedra piedra piedra piedra piedra piedra piedra piedra piedra piedra piedra piedra piedra piedra piedra piedra piedra piedra piedra piedra piedra piedra piedra piedra piedra piedra piedra piedra piedra piedra piedra piedra piedra piedra piedra piedra piedra piedra piedra piedra piedra piedra piedra piedra piedra piedra piedra piedra piedra piedra piedra piedra piedra piedra piedra piedra piedra piedra piedra piedra piedra piedra piedra piedra piedra piedra piedra piedra piedra piedra piedra piedra piedra piedra piedra piedra piedra piedra piedra piedra piedra piedra piedra piedra piedra piedra piedra piedra piedra piedra piedra piedra piedra piedra piedra piedra piedra piedra piedra piedra piedra piedra piedra piedra piedra piedra piedra piedra piedra piedra piedra piedra piedra piedra piedra piedra piedra piedra piedra piedra piedra piedra piedra piedra piedra piedra piedra piedra piedra piedra piedra piedra piedra piedra piedra piedra piedra piedra piedra piedra piedra piedra piedra piedra piedra piedra piedra piedra piedra piedra piedra piedra piedra piedra piedra piedra piedra piedra piedra piedra piedra piedra piedra piedra piedra piedra piedra piedra piedra piedra piedra piedra piedra piedra piedra piedra piedra piedra piedra piedra piedra piedra piedra piedra piedra piedra piedra piedra piedra piedra piedra piedra piedra piedra piedra piedra piedra piedra piedra piedra piedra piedra piedra piedra piedra piedra piedra piedra piedra piedra piedra piedra piedra piedra piedra piedra piedra piedra piedra piedra piedra piedra piedra piedra piedra piedra piedra piedra piedra piedra piedra piedra piedra piedra piedra piedra piedra piedra piedra piedra piedra piedra piedra piedra piedra piedra piedra piedra piedra piedra piedra piedra piedra piedra piedra piedra piedra piedra piedra piedra piedra piedra piedra piedra piedra piedra piedra piedra piedra piedra piedra piedra piedra piedra piedra piedra piedra piedra piedra piedra piedra piedra piedra piedra piedra piedra piedra piedra piedra piedra piedra piedra piedra piedra piedra piedra piedra piedra piedra piedra piedra piedra piedra piedra piedra piedra piedra piedra piedra piedra piedra piedra piedra piedra piedra piedra piedra piedra piedra piedra piedra piedra piedra piedra piedra piedra piedra piedra piedra piedra piedra piedra piedra piedra piedra piedra piedra piedra piedra piedra piedra piedra piedra piedra piedra piedra piedra piedra piedra piedra piedra piedra piedra piedra piedra piedra piedra piedra piedra piedra piedra piedra piedra piedra piedra piedra piedra piedra piedra piedra piedra piedra piedra piedra piedra piedra piedra piedra piedra piedra piedra piedra piedra piedra piedra piedra piedra piedra piedra piedra piedra piedra piedra piedra piedra piedra piedra piedra piedra piedra piedra piedra piedra piedra piedra piedra piedra piedra piedra piedra piedra piedra piedra piedra piedra piedra piedra piedra piedra piedra piedra piedra piedra piedra piedra piedra piedra piedra piedra piedra piedra piedra piedra piedra piedra piedra piedra piedra piedra piedra piedra piedra piedra piedra piedra piedra piedra piedra piedra piedra piedra piedra piedra piedra piedra piedra piedra piedra piedra piedra piedra piedra piedra piedra piedra piedra piedra piedra piedra piedra piedra piedra piedra piedra piedra piedra piedra piedra piedra piedra piedra piedra piedra piedra piedra piedra piedra piedra piedra piedra piedra piedra piedra piedra piedra piedra piedra piedra piedra piedra piedra piedra piedra piedra piedra piedra piedra piedra piedra piedra piedra piedra piedra piedra piedra piedra piedra piedra piedra piedra piedra piedra piedra piedra piedra piedra piedra piedra piedra piedra piedra piedra piedra piedra piedra piedra piedra piedra piedra piedra piedra piedra piedra piedra piedra piedra piedra piedra piedra piedra piedra piedra piedra piedra piedra piedra piedra piedra piedra piedra piedra piedra piedra piedra piedra piedra piedra piedra piedra piedra piedra piedra piedra piedra piedra piedra piedra piedra piedra piedra piedra piedra piedra piedra piedra piedra piedra piedra piedra piedra piedra piedra piedra piedra piedra piedra piedra piedra piedra piedra piedra piedra piedra piedra piedra piedra piedra piedra piedra piedra piedra piedra piedra piedra piedra piedra piedra piedra piedra piedra piedra piedra piedra piedra piedra piedra piedra piedra piedra piedra piedra piedra piedra piedra piedra piedra piedra piedra piedra piedra piedra piedra piedra piedra piedra piedra piedra piedra piedra piedra piedra piedra piedra piedra piedra piedra piedra piedra piedra piedra piedra piedra piedra piedra piedra piedra piedra piedra piedra piedra piedra piedra piedra piedra piedra piedra piedra piedra piedra piedra piedra piedra piedra piedra piedra piedra piedra piedra piedra piedra piedra piedra piedra piedra piedra piedra piedra piedra piedra piedra piedra piedra piedra piedra piedra piedra piedra piedra piedra piedra piedra piedra piedra piedra piedra piedra piedra piedra piedra piedra piedra piedra piedra piedra piedra piedra piedra piedra piedra piedra piedra piedra piedra piedra piedra piedra piedra piedra piedra piedra piedra piedra piedra piedra piedra piedra piedra piedra piedra piedra piedra piedra piedra piedra piedra piedra piedra piedra piedra piedra piedra piedra piedra piedra piedra piedra piedra piedra piedra piedra piedra piedra piedra piedra piedra piedra piedra piedra piedra piedra piedra piedra piedra piedra piedra piedra piedra piedra piedra piedra piedra piedra piedra piedra piedra piedra piedra piedra piedra piedra piedra piedra piedra piedra piedra piedra piedra piedra piedra piedra piedra piedra piedra piedra piedra piedra piedra piedra piedra piedra piedra piedra piedra piedra piedra piedra piedra piedra piedra piedra piedra piedra piedra piedra piedra piedra piedra piedra piedra piedra piedra piedra piedra piedra piedra piedra piedra piedra piedra piedra piedra piedra piedra piedra piedra piedra piedra piedra piedra piedra piedra piedra piedra piedra piedra piedra piedra piedra piedra piedra piedra piedra piedra piedra piedra piedra piedra piedra "
     ]
    }
   ],
   "source": [
    "palabra()"
   ]
  },
  {
   "cell_type": "code",
   "execution_count": null,
   "metadata": {},
   "outputs": [],
   "source": []
  }
 ],
 "metadata": {
  "kernelspec": {
   "display_name": "Python 3",
   "language": "python",
   "name": "python3"
  },
  "language_info": {
   "codemirror_mode": {
    "name": "ipython",
    "version": 3
   },
   "file_extension": ".py",
   "mimetype": "text/x-python",
   "name": "python",
   "nbconvert_exporter": "python",
   "pygments_lexer": "ipython3",
   "version": "3.7.1"
  }
 },
 "nbformat": 4,
 "nbformat_minor": 2
}
