{
 "cells": [
  {
   "cell_type": "markdown",
   "metadata": {},
   "source": [
    "## Ejercicio 4.1 \n",
    "\n",
    "El usuario del tarifador nos pide ahora una modificación, ya que no es lo mismo\n",
    "la tarifa por segundo de las llamadas cortas que la tarifa por segundo de las llamadas largas.\n",
    "Al inicio del programa se informará la duración máxima de una llamada corta, la tarifa de las\n",
    "llamadas cortas y la de las largas. Se deberá facturar con alguno de los dos valores de acuerdo\n",
    "a la duración de la comunicación."
   ]
  },
  {
   "cell_type": "markdown",
   "metadata": {},
   "source": [
    "A continuacion se muestra el programa `Tarifador` original"
   ]
  },
  {
   "cell_type": "code",
   "execution_count": 1,
   "metadata": {},
   "outputs": [],
   "source": [
    "def main():\n",
    "    \"\"\"El usuario ingresa la tarifa por segundo, cuántas\n",
    "    comunicaciones se realizaron, y la duracion de cada\n",
    "    comunicación expresada en horas, minutos y segundos. Como\n",
    "    resultado se informa la duración en segundos de cada\n",
    "    comunicación y su costo.\"\"\"\n",
    "    \n",
    "    p = float(input(\"¿Cuánto cuesta 1 segundo de comunicacion?: \"))\n",
    "    n = int(input(\"¿Cuántas comunicaciones hubo?: \"))\n",
    "    for x in range(n):\n",
    "        h = int(input(\"¿Cuántas horas?: \"))\n",
    "        m = int(input(\"¿Cuántos minutos?: \"))\n",
    "        s = int(input(\"¿Cuántos segundos?: \"))\n",
    "        duracion = a_segundos(h, m, s)\n",
    "        costo = duracion * p\n",
    "        print(\"Duracion:\", duracion, \"segundos. Costo: $\", costo)\n",
    "        \n",
    "def a_segundos(horas, minutos, segundos):\n",
    "    \"\"\"Transforma en segundos una medida de tiempo expresada en\n",
    "    20 horas, minutos y segundos\"\"\"\n",
    "    return 3600 * horas + 60 * minutos + segundos"
   ]
  },
  {
   "cell_type": "markdown",
   "metadata": {},
   "source": [
    "A continuacion se muestra el programa `Tarifador` modificado"
   ]
  },
  {
   "cell_type": "code",
   "execution_count": 6,
   "metadata": {},
   "outputs": [],
   "source": [
    "def main_mod():\n",
    "    '''El usuario ingresa:\n",
    "    *Duracion maxima de llamada corta\n",
    "    *Precio por segundo de llamada corta\n",
    "    *Precio por segundo de llamada larga\n",
    "    *Cantidad de comunicaciones y duracion en horas, minutos y segundos\n",
    "    \n",
    "    El programa devuelve:\n",
    "    *Tipo de llamada, duracion y precio de cada una'''\n",
    "\n",
    "    duracion_max = float(input(\"¿Cuánto es el limite de una llamada corta (segundos)?: \"))\n",
    "    costo_corta = float(input(\"¿Cuánto cuesta 1 segundo de comunicacion corta?: \"))\n",
    "    costo_larga = float(input(\"¿Cuánto cuesta 1 segundo de comunicacion larga?: \"))\n",
    "    print()\n",
    "    n = int(input(\"¿Cuántas comunicaciones hubo?: \"))\n",
    "    print()\n",
    "    \n",
    "    for x in range(1,n+1):\n",
    "        print(\"Llamada N°: \", x)\n",
    "        h = int(input(\"¿Cuántas horas?: \"))\n",
    "        m = int(input(\"¿Cuántos minutos?: \"))\n",
    "        s = int(input(\"¿Cuántos segundos?: \"))\n",
    "        duracion = a_segundos(h, m, s)\n",
    "        \n",
    "        if (duracion < duracion_max):\n",
    "            llamada = \"Corta\"\n",
    "            costo = duracion * costo_corta\n",
    "            print()\n",
    "            print(\"Es una llamada del tipo\", llamada , \"con duracion:\", duracion, \"segundos. Costo: $\", costo)\n",
    "            print()\n",
    "        else:\n",
    "            llamada = \"Larga\"\n",
    "            costo = duracion * costo_larga\n",
    "            print()\n",
    "            print(\"Es una llamada del tipo\", llamada , \" con duracion:\", duracion, \"segundos. Costo: $\", costo)\n",
    "            print()\n",
    "        \n",
    "def a_segundos(horas, minutos, segundos):\n",
    "    \"\"\"Transforma en segundos una medida de tiempo expresada en\n",
    "    20 horas, minutos y segundos\"\"\"\n",
    "    return 3600 * horas + 60 * minutos + segundos"
   ]
  },
  {
   "cell_type": "code",
   "execution_count": 8,
   "metadata": {},
   "outputs": [
    {
     "name": "stdout",
     "output_type": "stream",
     "text": [
      "¿Cuánto es el limite de una llamada corta (segundos)?: 34\n",
      "¿Cuánto cuesta 1 segundo de comunicacion corta?: 1\n",
      "¿Cuánto cuesta 1 segundo de comunicacion larga?: 2\n",
      "\n",
      "¿Cuántas comunicaciones hubo?: 2\n",
      "\n",
      "Llamada N°:  1\n",
      "¿Cuántas horas?: 0\n",
      "¿Cuántos minutos?: 0\n",
      "¿Cuántos segundos?: 20\n",
      "\n",
      "Es una llamada del tipo Corta con duracion: 20 segundos. Costo: $ 20.0\n",
      "\n",
      "Llamada N°:  2\n",
      "¿Cuántas horas?: 1\n",
      "¿Cuántos minutos?: 2\n",
      "¿Cuántos segundos?: 3\n",
      "\n",
      "Es una llamada del tipo Larga  con duracion: 3723 segundos. Costo: $ 7446.0\n",
      "\n"
     ]
    }
   ],
   "source": [
    "main_mod()"
   ]
  }
 ],
 "metadata": {
  "kernelspec": {
   "display_name": "Python 3",
   "language": "python",
   "name": "python3"
  },
  "language_info": {
   "codemirror_mode": {
    "name": "ipython",
    "version": 3
   },
   "file_extension": ".py",
   "mimetype": "text/x-python",
   "name": "python",
   "nbconvert_exporter": "python",
   "pygments_lexer": "ipython3",
   "version": "3.7.1"
  }
 },
 "nbformat": 4,
 "nbformat_minor": 2
}
