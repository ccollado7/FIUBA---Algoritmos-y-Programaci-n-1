{
 "cells": [
  {
   "cell_type": "markdown",
   "metadata": {},
   "source": [
    "# 4.3 Multiples decisiones cosecutivas"
   ]
  },
  {
   "cell_type": "markdown",
   "metadata": {},
   "source": [
    "## Problema 4.3\n",
    "\n",
    "Si el número es positivo escribir un mensaje \"Número positivo\", si el número\n",
    "es igual a 0 un mensaje \"Igual a 0\", y si el número es negativo escribir un mensaje \"Número\n",
    "negativo\"."
   ]
  },
  {
   "cell_type": "code",
   "execution_count": 1,
   "metadata": {},
   "outputs": [],
   "source": [
    "def pos_cero_o_neg():\n",
    "    x = int(input(\"Ingrese un numero: \"))\n",
    "    if x > 0:\n",
    "        print(\"Numero positivo\")\n",
    "    else:\n",
    "        if x == 0:\n",
    "            print(\"Igual a 0\")\n",
    "        else:\n",
    "            print(\"Numero negativo\")"
   ]
  },
  {
   "cell_type": "code",
   "execution_count": 2,
   "metadata": {},
   "outputs": [
    {
     "name": "stdout",
     "output_type": "stream",
     "text": [
      "Ingrese un numero: -3\n",
      "Numero negativo\n"
     ]
    }
   ],
   "source": [
    "pos_cero_o_neg()"
   ]
  },
  {
   "cell_type": "code",
   "execution_count": 3,
   "metadata": {},
   "outputs": [],
   "source": [
    "def pos_cero_o_neg():\n",
    "    x = int(input(\"Ingrese un numero: \"))\n",
    "    if x >0:\n",
    "        print(\"Numero positivo\")\n",
    "    elif x == 0:\n",
    "        print(\"Igual a 0\")\n",
    "    else:\n",
    "        print(\"Numero negativo\")"
   ]
  },
  {
   "cell_type": "code",
   "execution_count": 5,
   "metadata": {},
   "outputs": [
    {
     "name": "stdout",
     "output_type": "stream",
     "text": [
      "Ingrese un numero: 0\n",
      "Igual a 0\n"
     ]
    }
   ],
   "source": [
    "pos_cero_o_neg()"
   ]
  },
  {
   "cell_type": "markdown",
   "metadata": {},
   "source": [
    "## Otras expresiones Booleanas "
   ]
  },
  {
   "cell_type": "code",
   "execution_count": 11,
   "metadata": {},
   "outputs": [
    {
     "name": "stdout",
     "output_type": "stream",
     "text": [
      "Largo de la lista cero\n"
     ]
    }
   ],
   "source": [
    "#Sobre propiedades de una lista\n",
    "\n",
    "x = []\n",
    "if len(x) == 0:\n",
    "    print(\"Largo de la lista cero\")\n",
    "else:\n",
    "    print(\"Largo de la lista distinto de cero\")"
   ]
  },
  {
   "cell_type": "code",
   "execution_count": 12,
   "metadata": {},
   "outputs": [
    {
     "name": "stdout",
     "output_type": "stream",
     "text": [
      "Elemento en la lista\n"
     ]
    }
   ],
   "source": [
    "#Sobre elementos es una lista\n",
    "\n",
    "x = [1,2,3]\n",
    "if 2 in x:\n",
    "    print(\"Elemento en la lista\")\n",
    "else:\n",
    "    print(\"Elemento no en la lista\")"
   ]
  },
  {
   "cell_type": "code",
   "execution_count": 32,
   "metadata": {},
   "outputs": [
    {
     "name": "stdout",
     "output_type": "stream",
     "text": [
      "Palabra vacia\n"
     ]
    }
   ],
   "source": [
    "#Sobre una cadena de caracteras que es vacia\n",
    "\n",
    "palabra = \"\"\n",
    "if palabra:\n",
    "    print(\"Palabra no vacia\") #No se ejecuta esta linea ya que el string vacio es igual 0 y el 0 es considerado False\n",
    "else:\n",
    "    print(\"Palabra vacia\")"
   ]
  },
  {
   "cell_type": "code",
   "execution_count": 31,
   "metadata": {},
   "outputs": [
    {
     "name": "stdout",
     "output_type": "stream",
     "text": [
      "x es distinto de cero\n"
     ]
    }
   ],
   "source": [
    "#Negando un numero\n",
    "\n",
    "x = 2\n",
    "if not x:\n",
    "    print(\"x es cero\") #No se ejecuta esta linea ya que not x es igual a 0 y el 0 es considerado False\n",
    "else: \n",
    "    print(\"x es distinto de cero\") #Se ejecuta esta linea"
   ]
  },
  {
   "cell_type": "code",
   "execution_count": 18,
   "metadata": {},
   "outputs": [
    {
     "data": {
      "text/plain": [
       "False"
      ]
     },
     "execution_count": 18,
     "metadata": {},
     "output_type": "execute_result"
    }
   ],
   "source": [
    "not x"
   ]
  },
  {
   "cell_type": "code",
   "execution_count": 30,
   "metadata": {},
   "outputs": [
    {
     "name": "stdout",
     "output_type": "stream",
     "text": [
      "y es None\n"
     ]
    }
   ],
   "source": [
    "#Sobre el valor de None\n",
    "\n",
    "y = None\n",
    "if y:\n",
    "    print(\"y no es None\")\n",
    "else:\n",
    "    print(\"y es None\") #Se ejecuta esta linea ya que None es considerado valor nulo"
   ]
  }
 ],
 "metadata": {
  "kernelspec": {
   "display_name": "Python 3",
   "language": "python",
   "name": "python3"
  },
  "language_info": {
   "codemirror_mode": {
    "name": "ipython",
    "version": 3
   },
   "file_extension": ".py",
   "mimetype": "text/x-python",
   "name": "python",
   "nbconvert_exporter": "python",
   "pygments_lexer": "ipython3",
   "version": "3.7.1"
  }
 },
 "nbformat": 4,
 "nbformat_minor": 2
}
