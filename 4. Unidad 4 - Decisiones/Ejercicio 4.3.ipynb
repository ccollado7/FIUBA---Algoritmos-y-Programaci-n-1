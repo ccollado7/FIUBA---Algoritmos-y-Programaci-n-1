{
 "cells": [
  {
   "cell_type": "markdown",
   "metadata": {},
   "source": [
    "## Ejercicio 4.3\n",
    "\n",
    "Dados tres puntos en el plano expresados como coordenadas (𝑥, 𝑦) informar cuál\n",
    "es el que se encuentra más lejos del centro de coordenadas."
   ]
  },
  {
   "cell_type": "code",
   "execution_count": 17,
   "metadata": {},
   "outputs": [],
   "source": [
    "def distancia(x1,y1,x2,y2,x3,y3):\n",
    "    '''Este programa recibe como parametros las coordenadas (xi,yi) de 3 puntos.\n",
    "    Devuelve el punto de maxima distancia con respecto al origen'''\n",
    "    \n",
    "    dist1 = ((x1**2) + (y1**2))**(1/2)\n",
    "    dist2 = ((x2**2) + (y2**2))**(1/2)\n",
    "    dist3 = ((x3**2) + (y3**2))**(1/2)\n",
    "    \n",
    "    if (dist1 > dist2) and (dist1 > dist3):\n",
    "        print(\"El punto mas alejado es el N°1, cuya distancia es\", round(dist1,2),\" y esta formado por los puntos \", (x1,y1))\n",
    "    elif (dist2 > dist1) and (dist2 > dist3):\n",
    "        print(\"El punto mas alejado es el N°2, cuya distancia es\", round(dist2,2),\" y esta formado por los puntos \", (x2,y2))\n",
    "    else:\n",
    "        print(\"El punto mas alejado es el N°3, cuya distancia es\", round(dist3,2),\" y esta formado por los puntos \", (x3,y3))"
   ]
  },
  {
   "cell_type": "code",
   "execution_count": 16,
   "metadata": {},
   "outputs": [
    {
     "name": "stdout",
     "output_type": "stream",
     "text": [
      "El punto mas alejado es el N°2, cuya distancia es 7.81  y esta formado por los puntos  (5, 6)\n"
     ]
    }
   ],
   "source": [
    "distancia(1,2,5,6,3,4)"
   ]
  }
 ],
 "metadata": {
  "kernelspec": {
   "display_name": "Python 3",
   "language": "python",
   "name": "python3"
  },
  "language_info": {
   "codemirror_mode": {
    "name": "ipython",
    "version": 3
   },
   "file_extension": ".py",
   "mimetype": "text/x-python",
   "name": "python",
   "nbconvert_exporter": "python",
   "pygments_lexer": "ipython3",
   "version": "3.7.1"
  }
 },
 "nbformat": 4,
 "nbformat_minor": 2
}
