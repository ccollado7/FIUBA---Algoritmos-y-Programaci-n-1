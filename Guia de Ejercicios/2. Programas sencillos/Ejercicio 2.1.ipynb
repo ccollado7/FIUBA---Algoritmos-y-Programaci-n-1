{
 "cells": [
  {
   "cell_type": "markdown",
   "metadata": {},
   "source": [
    "### Ejercicio 2.1\n",
    "\n",
    "Escribir un programa que le pregunte al usuario una cantidad de pesos, una tasa de interes y un numero de años y muestre como resultado el monto final a obtener."
   ]
  },
  {
   "cell_type": "code",
   "execution_count": 3,
   "metadata": {},
   "outputs": [],
   "source": [
    "def monto():\n",
    "    '''Este programa solicita se ingrese los siguientes datos numericos:\n",
    "    c: Cantidad de pesos inicial\n",
    "    x: Tasa de interes del deposito\n",
    "    n: Cantidad de años que se quiere dejar depositado\n",
    "    \n",
    "    Se calcula el monto final que se obtendra'''\n",
    "    \n",
    "    c = float(input(\"Por favor ingrese la cantidad de pesos iniciales que se quiere depositar: \"))\n",
    "    x = float(input(\"Por favor ingrese el valor de la tasa de interes del deposito: \"))\n",
    "    n = int(input(\"Por favor ingrese la cantidad de años que desea realizar el deposito: \"))\n",
    "    \n",
    "    C_x = c * ((1 + (x/100)) ** n)\n",
    "    return(\"El monto final que obtendra de colocar \" + str(c) + \" pesos \" + \"a una tasa de interes de \" + str(x) + \" es: \" + str(round(C_x,2)))"
   ]
  },
  {
   "cell_type": "code",
   "execution_count": 4,
   "metadata": {},
   "outputs": [
    {
     "name": "stdout",
     "output_type": "stream",
     "text": [
      "Por favor ingrese la cantidad de pesos iniciales que se quiere depositar: 100\n",
      "Por favor ingrese el valor de la tasa de interes del deposito: 5\n",
      "Por favor ingrese la cantidad de años que desea realizar el deposito: 78\n"
     ]
    },
    {
     "data": {
      "text/plain": [
       "'El monto final que obtendra de colocar 100.0 pesos a una tasa de interes de 5.0 es: 4495.37'"
      ]
     },
     "execution_count": 4,
     "metadata": {},
     "output_type": "execute_result"
    }
   ],
   "source": [
    "monto()"
   ]
  }
 ],
 "metadata": {
  "kernelspec": {
   "display_name": "Python 3",
   "language": "python",
   "name": "python3"
  },
  "language_info": {
   "codemirror_mode": {
    "name": "ipython",
    "version": 3
   },
   "file_extension": ".py",
   "mimetype": "text/x-python",
   "name": "python",
   "nbconvert_exporter": "python",
   "pygments_lexer": "ipython3",
   "version": "3.7.1"
  }
 },
 "nbformat": 4,
 "nbformat_minor": 2
}
