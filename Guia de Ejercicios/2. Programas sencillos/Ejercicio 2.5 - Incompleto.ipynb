{
 "cells": [
  {
   "cell_type": "markdown",
   "metadata": {},
   "source": [
    "### Ejercicio 2.5\n",
    "\n",
    "Escribir un programa que le pregunte al usuario un numero n e imprima los primeros n numeros triangulares, junto con su indice. \n",
    "\n",
    "Los numeros triangulares se obtienen mediante la suma de los numeros naturales desde 1 hasta n."
   ]
  },
  {
   "cell_type": "markdown",
   "metadata": {},
   "source": [
    "    a) Utilizo la ecuacion de Euler"
   ]
  },
  {
   "cell_type": "code",
   "execution_count": 8,
   "metadata": {},
   "outputs": [],
   "source": [
    "def numeros_triangulo_euler():\n",
    "    '''El programa solicita que se ingrese un numero entero n y calcula los n primeros numetros triangulares\n",
    "    Utiliza la Ecuacion de Euler para resolver'''\n",
    "    n = int(input(\"Por favor ingrese un numero n: \"))\n",
    "    for i in range(1,n+1):\n",
    "        suma = int((i * (i+1)) / 2)\n",
    "        print()\n",
    "        print(\"El numero triangular de \" + str(i) + \" es: \" + str(suma))"
   ]
  },
  {
   "cell_type": "code",
   "execution_count": 9,
   "metadata": {},
   "outputs": [
    {
     "name": "stdout",
     "output_type": "stream",
     "text": [
      "Por favor ingrese un numero n: 5\n",
      "\n",
      "El numero triangular de 1 es: 1\n",
      "\n",
      "El numero triangular de 2 es: 3\n",
      "\n",
      "El numero triangular de 3 es: 6\n",
      "\n",
      "El numero triangular de 4 es: 10\n",
      "\n",
      "El numero triangular de 5 es: 15\n"
     ]
    }
   ],
   "source": [
    "numeros_triangulo_euler()"
   ]
  },
  {
   "cell_type": "markdown",
   "metadata": {},
   "source": [
    "    b) No utilizando la Ecuacion de Euler"
   ]
  },
  {
   "cell_type": "code",
   "execution_count": null,
   "metadata": {},
   "outputs": [],
   "source": [
    "def numeros_triangulo():\n",
    "    '''El programa solicita que se ingrese un numero entero n y calcula los n primeros numetros triangulares'''\n",
    "    n = int(input(\"Por favor ingrese un numero n: \"))\n",
    "    for i in range(1,n+1):\n",
    "        numero = 1\n",
    "        \n",
    "        \n",
    "            "
   ]
  }
 ],
 "metadata": {
  "kernelspec": {
   "display_name": "Python 3",
   "language": "python",
   "name": "python3"
  },
  "language_info": {
   "codemirror_mode": {
    "name": "ipython",
    "version": 3
   },
   "file_extension": ".py",
   "mimetype": "text/x-python",
   "name": "python",
   "nbconvert_exporter": "python",
   "pygments_lexer": "ipython3",
   "version": "3.7.1"
  }
 },
 "nbformat": 4,
 "nbformat_minor": 2
}
