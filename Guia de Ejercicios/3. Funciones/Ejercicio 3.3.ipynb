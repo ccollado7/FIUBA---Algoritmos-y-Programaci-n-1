{
 "cells": [
  {
   "cell_type": "markdown",
   "metadata": {},
   "source": [
    "### Ejercicio 3.3\n",
    "\n",
    "Escribir una función que, dados cuatro números, devuelva el mayor producto\n",
    "de dos de ellos. Por ejemplo, si recibe los números 1, 5, -2, -4 debe devolver 8, que es el producto\n",
    "más grande que se puede obtener entre ellos (8 = −2 × −4)."
   ]
  },
  {
   "cell_type": "code",
   "execution_count": 9,
   "metadata": {},
   "outputs": [],
   "source": [
    "def producto(a,b,c,d):\n",
    "    '''La funcion recibe como parametro 4 valores numericos. Devuelve el maximo producto que se puede obtener'''\n",
    "    \n",
    "    p1 = a * b\n",
    "    p2 = a * c\n",
    "    p3 = a * d\n",
    "    p4 = b * c\n",
    "    p5 = b * d\n",
    "    p6 = c * d\n",
    "    \n",
    "    maximo = max(p1,p2,p3,p4,p5,p6)\n",
    "    \n",
    "    return(\"El maximo valor del producto es: \" + str(maximo))"
   ]
  },
  {
   "cell_type": "code",
   "execution_count": 10,
   "metadata": {},
   "outputs": [
    {
     "data": {
      "text/plain": [
       "'El maximo valor del producto es: 12'"
      ]
     },
     "execution_count": 10,
     "metadata": {},
     "output_type": "execute_result"
    }
   ],
   "source": [
    "producto(1,2,3,4)"
   ]
  }
 ],
 "metadata": {
  "kernelspec": {
   "display_name": "Python 3",
   "language": "python",
   "name": "python3"
  },
  "language_info": {
   "codemirror_mode": {
    "name": "ipython",
    "version": 3
   },
   "file_extension": ".py",
   "mimetype": "text/x-python",
   "name": "python",
   "nbconvert_exporter": "python",
   "pygments_lexer": "ipython3",
   "version": "3.7.1"
  }
 },
 "nbformat": 4,
 "nbformat_minor": 2
}
