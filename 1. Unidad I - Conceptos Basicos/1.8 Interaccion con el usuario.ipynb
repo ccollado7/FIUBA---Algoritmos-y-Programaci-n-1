{
 "cells": [
  {
   "cell_type": "markdown",
   "metadata": {},
   "source": [
    "# 1.8 Interaccion con el Usuario"
   ]
  },
  {
   "cell_type": "markdown",
   "metadata": {},
   "source": [
    "## Problema 1.8.1\n",
    "\n",
    "Escribir en Python un programa que pida al usuario que escriba su nombre y luego lo salude"
   ]
  },
  {
   "cell_type": "code",
   "execution_count": 5,
   "metadata": {},
   "outputs": [],
   "source": [
    "#Primero defino una funcion que reciba como parametro un nombre y genere un saludo\n",
    "def hola(nombre):\n",
    "    return(\"Hola \" + nombre + \"!\")\n",
    "\n",
    "#Segundo: Defino otra funcion que permita ingresar un nombre\n",
    "def saludar():\n",
    "    nombre = input(\"Por favor ingrese su nombre: \") #El nombre introducido por el usuario lo almaceno en la variable nombre\n",
    "    saludo = hola(nombre) #En este punto invoco la funcion definida previamente para generar el saludo\n",
    "    print(saludo)"
   ]
  },
  {
   "cell_type": "code",
   "execution_count": 6,
   "metadata": {},
   "outputs": [
    {
     "name": "stdout",
     "output_type": "stream",
     "text": [
      "Por favor ingrese su nombre: claudio\n",
      "Hola claudio!\n"
     ]
    }
   ],
   "source": [
    "saludar()"
   ]
  },
  {
   "cell_type": "markdown",
   "metadata": {},
   "source": [
    "## Problema 1.8.2\n",
    "\n",
    "Escribir en Python un programa que haga lo siguiente:\n",
    "\n",
    "    1. Muestre un mensaje de bienvenida por pantalla\n",
    "    2. Le pide al usuario que introduzca dos numeros enteros n1 y n2\n",
    "    3. Imprime el cuadrado de todos los numeros enteros del intervalo [n1,n2)\n",
    "    4. Muestra un mensaje de despedida por pantalla"
   ]
  },
  {
   "cell_type": "code",
   "execution_count": 10,
   "metadata": {},
   "outputs": [],
   "source": [
    "def imprimir_cuadrados():\n",
    "    print(\"Bienvenido!\")\n",
    "    n1 = int(input(\"Por favor introduzca el 1° numero entero: \"))\n",
    "    n2 = int(input(\"Por favor introduzca el 2° numero entero: \"))\n",
    "    for i in range(n1,n2):\n",
    "        producto = i * i\n",
    "        print(producto)\n",
    "    print(\"Gracias por participar\")"
   ]
  },
  {
   "cell_type": "code",
   "execution_count": 11,
   "metadata": {},
   "outputs": [
    {
     "name": "stdout",
     "output_type": "stream",
     "text": [
      "Bienvenido!\n",
      "Por favor introduzca el 1° numero entero: 3\n",
      "Por favor introduzca el 2° numero entero: 8\n",
      "9\n",
      "16\n",
      "25\n",
      "36\n",
      "49\n",
      "Gracias por participar\n"
     ]
    }
   ],
   "source": [
    "imprimir_cuadrados()"
   ]
  }
 ],
 "metadata": {
  "kernelspec": {
   "display_name": "Python 3",
   "language": "python",
   "name": "python3"
  },
  "language_info": {
   "codemirror_mode": {
    "name": "ipython",
    "version": 3
   },
   "file_extension": ".py",
   "mimetype": "text/x-python",
   "name": "python",
   "nbconvert_exporter": "python",
   "pygments_lexer": "ipython3",
   "version": "3.7.1"
  }
 },
 "nbformat": 4,
 "nbformat_minor": 2
}
