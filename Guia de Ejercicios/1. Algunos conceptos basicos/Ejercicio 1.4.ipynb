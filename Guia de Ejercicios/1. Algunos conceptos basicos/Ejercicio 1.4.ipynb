{
 "cells": [
  {
   "cell_type": "markdown",
   "metadata": {},
   "source": [
    "### Ejercicio 1.4\n",
    "\n",
    "Implementar un algoritmo que, dado un numero entero n, permita calcular su factorial"
   ]
  },
  {
   "cell_type": "code",
   "execution_count": 14,
   "metadata": {},
   "outputs": [],
   "source": [
    "def factorial():\n",
    "    '''Esta funcion solicita se ingrese un numero entero n. Devuelve el factorial de ese numero'''\n",
    "    n = int(input(\"Por favor ingrese el numero n que desea calcular el Factorial: \"))\n",
    "    if n == 0: #Caso base factorial de 0 es 1\n",
    "        factorial = 1\n",
    "        return(\"El factorial de \" + str(n) + \" es igual a \" + str(factorial))\n",
    "    elif n == 1: #Caso base factorial de 1 es 1\n",
    "        factorial = 1\n",
    "        return(\"El factorial de \" + str(n) + \" es igual a \" + str(factorial))\n",
    "    else: #En este bloque calculo los factoriales para n > 1\n",
    "        factorial = 1\n",
    "        for i in range(1,n+1):\n",
    "            factorial = factorial * i\n",
    "        return(\"El factorial de \" + str(n) + \" es igual a \" + str(factorial))"
   ]
  },
  {
   "cell_type": "code",
   "execution_count": 15,
   "metadata": {},
   "outputs": [
    {
     "name": "stdout",
     "output_type": "stream",
     "text": [
      "Por favor ingrese el numero n que desea calcular el Factorial: 3\n"
     ]
    },
    {
     "data": {
      "text/plain": [
       "'El factorial de 3 es igual a 6'"
      ]
     },
     "execution_count": 15,
     "metadata": {},
     "output_type": "execute_result"
    }
   ],
   "source": [
    "factorial()"
   ]
  }
 ],
 "metadata": {
  "kernelspec": {
   "display_name": "Python 3",
   "language": "python",
   "name": "python3"
  },
  "language_info": {
   "codemirror_mode": {
    "name": "ipython",
    "version": 3
   },
   "file_extension": ".py",
   "mimetype": "text/x-python",
   "name": "python",
   "nbconvert_exporter": "python",
   "pygments_lexer": "ipython3",
   "version": "3.7.1"
  }
 },
 "nbformat": 4,
 "nbformat_minor": 2
}
