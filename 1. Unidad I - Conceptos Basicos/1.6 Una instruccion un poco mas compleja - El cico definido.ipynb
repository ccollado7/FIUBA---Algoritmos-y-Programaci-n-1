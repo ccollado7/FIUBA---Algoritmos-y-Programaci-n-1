{
 "cells": [
  {
   "cell_type": "markdown",
   "metadata": {},
   "source": [
    "# 1.6 Una instruccion un poco mas compleja: el ciclo definido\n"
   ]
  },
  {
   "cell_type": "markdown",
   "metadata": {},
   "source": [
    "### Problema 1.6.1\n",
    "\n",
    "Supongamos que queremos calcular la suma de los primeros 5 numeros cuadrados"
   ]
  },
  {
   "cell_type": "code",
   "execution_count": 1,
   "metadata": {},
   "outputs": [],
   "source": [
    "def cuadrados(n):\n",
    "    '''Esta funcion recibe un numero n y devuelve el cuadrado del mismo'''\n",
    "    return (n*n)"
   ]
  },
  {
   "cell_type": "code",
   "execution_count": 7,
   "metadata": {},
   "outputs": [],
   "source": [
    "def suma_5_cuadrados():\n",
    "    '''Esta funcion calcula la suma del cuadrado de los 5 primeros numeros'''\n",
    "    '''Para los calculos en esta funcion utilizo el resultado de la funcion cuadrado(n)'''\n",
    "    suma = 0\n",
    "    suma = suma + cuadrados(1)\n",
    "    suma = suma + cuadrados(2)\n",
    "    suma = suma + cuadrados(3)\n",
    "    suma = suma + cuadrados(4)\n",
    "    suma = suma + cuadrados(5)\n",
    "    return suma"
   ]
  },
  {
   "cell_type": "code",
   "execution_count": 8,
   "metadata": {},
   "outputs": [
    {
     "data": {
      "text/plain": [
       "55"
      ]
     },
     "execution_count": 8,
     "metadata": {},
     "output_type": "execute_result"
    }
   ],
   "source": [
    "suma_5_cuadrados()"
   ]
  },
  {
   "cell_type": "markdown",
   "metadata": {},
   "source": [
    "Solucion del Problema 1.6.1 en forma compacto por medio de un `ciclo definido`"
   ]
  },
  {
   "cell_type": "code",
   "execution_count": 13,
   "metadata": {},
   "outputs": [],
   "source": [
    "def suma_5_cuadrados():\n",
    "    '''Esta funcion calcula la suma del cuadrado de los 5 primeros numeros'''\n",
    "    '''Para los calculos en esta funcion utilizo el resultado de la funcion cuadrado(n)'''\n",
    "    suma = 0 #Inicializo la variable suma con el valor 0\n",
    "    for x in range(1,6): #Defino el encabezado de un ciclo definido que recorra los enteros entre 1 y 5\n",
    "        suma = suma + cuadrados(x) #Voy sumando los cuadrados por medio de la funcion cuadrados (x)\n",
    "    return suma #retorno la suma de"
   ]
  },
  {
   "cell_type": "code",
   "execution_count": 14,
   "metadata": {},
   "outputs": [
    {
     "data": {
      "text/plain": [
       "55"
      ]
     },
     "execution_count": 14,
     "metadata": {},
     "output_type": "execute_result"
    }
   ],
   "source": [
    "suma_5_cuadrados()"
   ]
  },
  {
   "cell_type": "markdown",
   "metadata": {},
   "source": [
    "### Problema 1.6.2\n",
    "\n",
    "Hacer una funcion mas generica que reciba un parametro n y calcule la suma de los primeros n numeros cuadrados"
   ]
  },
  {
   "cell_type": "markdown",
   "metadata": {},
   "source": [
    "La forma de resolucion que planteo es autocontenida y no utiliza el calculo realiza por otra funcion"
   ]
  },
  {
   "cell_type": "code",
   "execution_count": 32,
   "metadata": {},
   "outputs": [],
   "source": [
    "def cuadrados_n(n):\n",
    "    '''Esta funcion recibe como parametro un numero n y devuelve la suma de los cuadrados de los n numeros'''\n",
    "    suma = 0\n",
    "    for i in range (1,n+1):\n",
    "        suma = suma + (i*i)\n",
    "    return suma"
   ]
  },
  {
   "cell_type": "code",
   "execution_count": 27,
   "metadata": {},
   "outputs": [
    {
     "data": {
      "text/plain": [
       "55"
      ]
     },
     "execution_count": 27,
     "metadata": {},
     "output_type": "execute_result"
    }
   ],
   "source": [
    "cuadrados_n(5)"
   ]
  },
  {
   "cell_type": "code",
   "execution_count": 30,
   "metadata": {},
   "outputs": [
    {
     "data": {
      "text/plain": [
       "338350"
      ]
     },
     "execution_count": 30,
     "metadata": {},
     "output_type": "execute_result"
    }
   ],
   "source": [
    "cuadrados_n(100)"
   ]
  },
  {
   "cell_type": "markdown",
   "metadata": {},
   "source": [
    "En el libro este problema lo resuelven de la siguiente forma:"
   ]
  },
  {
   "cell_type": "code",
   "execution_count": 28,
   "metadata": {},
   "outputs": [],
   "source": [
    "def suma_cuadrados(n):\n",
    "    suma = 0\n",
    "    for x in range(1,n+1):\n",
    "        suma = suma + cuadrados(x)\n",
    "    return suma"
   ]
  },
  {
   "cell_type": "code",
   "execution_count": 29,
   "metadata": {},
   "outputs": [
    {
     "data": {
      "text/plain": [
       "55"
      ]
     },
     "execution_count": 29,
     "metadata": {},
     "output_type": "execute_result"
    }
   ],
   "source": [
    "suma_cuadrados(5)"
   ]
  },
  {
   "cell_type": "code",
   "execution_count": 31,
   "metadata": {},
   "outputs": [
    {
     "data": {
      "text/plain": [
       "338350"
      ]
     },
     "execution_count": 31,
     "metadata": {},
     "output_type": "execute_result"
    }
   ],
   "source": [
    "suma_cuadrados(100)"
   ]
  },
  {
   "cell_type": "markdown",
   "metadata": {},
   "source": [
    "Se obtiene el mismo resultado: La funcion suma_cuadrados utiliza la funcion cuadrados(x) definida previamente"
   ]
  }
 ],
 "metadata": {
  "kernelspec": {
   "display_name": "Python 3",
   "language": "python",
   "name": "python3"
  },
  "language_info": {
   "codemirror_mode": {
    "name": "ipython",
    "version": 3
   },
   "file_extension": ".py",
   "mimetype": "text/x-python",
   "name": "python",
   "nbconvert_exporter": "python",
   "pygments_lexer": "ipython3",
   "version": "3.7.1"
  }
 },
 "nbformat": 4,
 "nbformat_minor": 2
}
