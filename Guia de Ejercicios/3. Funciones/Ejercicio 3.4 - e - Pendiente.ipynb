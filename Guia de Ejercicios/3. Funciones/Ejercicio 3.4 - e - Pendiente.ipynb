{
 "cells": [
  {
   "cell_type": "markdown",
   "metadata": {},
   "source": [
    "### Ejercicio 3.3 e)\n",
    "\n",
    "Escribir una función que reciba las coordenadas de 4 puntos en el plano ℝ2 (x1,y1,x2,\n",
    "y2,x3,y3,x4,y4) que conforman un cuadrilátero convexo, y devuelva el área del mismo."
   ]
  },
  {
   "cell_type": "code",
   "execution_count": 16,
   "metadata": {},
   "outputs": [],
   "source": [
    "#1° Funcion - Diferencia entre vectores\n",
    "\n",
    "def diferencia_vector(coord_x1,coord_y1,coord_x2,coord_y2):\n",
    "    '''La funcion recibe como parametros los componentes (x,y) de dos vectores.\n",
    "    Devuelve la diferencia vectorial entre ambos vectores'''\n",
    "    \n",
    "    delta_x = coord_x1 - coord_x2\n",
    "    delta_y = coord_y1 - coord_y2\n",
    "    \n",
    "    delta_vector = (delta_x,delta_y)\n",
    "    \n",
    "    return (delta_vector)\n",
    "\n",
    "\n",
    "\n",
    "#2° Funcion - Producto vectorial entre vectores\n",
    "\n",
    "def producto_vectorial(coord_x1,coord_y1,coord_x2,coord_y2):\n",
    "    '''La funcion recibe como parametros los componentes (x,y,z) de dos vectores.\n",
    "    Devuelve el producto vectorial entre los vectores'''\n",
    "    \n",
    "    producto_vector = (coord_x1 * coord_y2) - (coord_y1 * coord_x2)\n",
    "    \n",
    "    return (producto_vector)\n",
    "\n",
    "\n",
    "\n",
    "#3° Funcion - Normal de un Vector\n",
    "\n",
    "def norma_vector(coord_x):\n",
    "    '''La funcion recibe como parametros los valores (x,y) de un vector y devuelve la norma del mismo'''\n",
    "    x = coord_x**2\n",
    "    \n",
    "    norma = (x)**(1/2)\n",
    "    \n",
    "    return (norma)\n",
    "\n",
    "\n",
    "def area_triangulo(w1,w2,x1,x2,y1,y2,z1,z2):\n",
    "    '''La funcion recibe las coordenadas (xi,yi,zi) de tres puntos en R3.\n",
    "    Devuelve el area del triangulo que se forma entre esos puntos'''\n",
    "\n",
    "    dif1x, dif1y = diferencia_vector(x1,x2,w1,w2)\n",
    "    \n",
    "    dif2x, dif2y = diferencia_vector(z1,z2,y1,y2)\n",
    "    \n",
    "    prod1 = producto_vectorial(dif1x, dif1y,dif2x, dif2y)\n",
    "    \n",
    "    norma = norma_vector(prod1)\n",
    "    \n",
    "    area = norma\n",
    "    \n",
    "    return(\"El area del triangulo es: \" + str(round(area,3)))"
   ]
  },
  {
   "cell_type": "code",
   "execution_count": 18,
   "metadata": {},
   "outputs": [
    {
     "data": {
      "text/plain": [
       "'El area del triangulo es: 6.0'"
      ]
     },
     "execution_count": 18,
     "metadata": {},
     "output_type": "execute_result"
    }
   ],
   "source": [
    "area_triangulo(4,3,5,10,-2,8,-3,-5)"
   ]
  },
  {
   "cell_type": "code",
   "execution_count": null,
   "metadata": {},
   "outputs": [],
   "source": []
  }
 ],
 "metadata": {
  "kernelspec": {
   "display_name": "Python 3",
   "language": "python",
   "name": "python3"
  }
 },
 "nbformat": 4,
 "nbformat_minor": 2
}
