{
 "cells": [
  {
   "cell_type": "markdown",
   "metadata": {},
   "source": [
    "## 4.2 Comparaciones Simples"
   ]
  },
  {
   "cell_type": "markdown",
   "metadata": {},
   "source": [
    "### Problema 4.1"
   ]
  },
  {
   "cell_type": "code",
   "execution_count": 1,
   "metadata": {},
   "outputs": [],
   "source": [
    "def positivo():\n",
    "    x = int(input(\"Ingrese un numero: \"))\n",
    "    if x > 0:\n",
    "        print(\"Numero positivo\")"
   ]
  },
  {
   "cell_type": "code",
   "execution_count": 2,
   "metadata": {},
   "outputs": [
    {
     "name": "stdout",
     "output_type": "stream",
     "text": [
      "Ingrese un numero: 3\n",
      "Numero positivo\n"
     ]
    }
   ],
   "source": [
    "positivo()"
   ]
  },
  {
   "cell_type": "markdown",
   "metadata": {},
   "source": [
    "### Problema 4.2\n",
    "\n",
    "Necesitamos además un mensaje \"Número no positivo\" cuando no se cumple la\n",
    "condición"
   ]
  },
  {
   "cell_type": "code",
   "execution_count": 3,
   "metadata": {},
   "outputs": [],
   "source": [
    "def positivo_o_no():\n",
    "    x = int(input(\"Ingrese un numero: \"))\n",
    "    if x > 0:\n",
    "        print(\"Numero positivo\")\n",
    "    if not x > 0:\n",
    "        print(\"Numero no positivo\")"
   ]
  },
  {
   "cell_type": "code",
   "execution_count": 4,
   "metadata": {},
   "outputs": [
    {
     "name": "stdout",
     "output_type": "stream",
     "text": [
      "Ingrese un numero: -2\n",
      "Numero no positivo\n"
     ]
    }
   ],
   "source": [
    "positivo_o_no()"
   ]
  },
  {
   "cell_type": "code",
   "execution_count": 5,
   "metadata": {},
   "outputs": [],
   "source": [
    "def positivo_o_no():\n",
    "    x = int(input(\"Ingrese un numero: \"))\n",
    "    if x > 0:\n",
    "        print(\"Numero positivo\")\n",
    "    else:\n",
    "        print(\"Numero no positivo\")"
   ]
  },
  {
   "cell_type": "code",
   "execution_count": 7,
   "metadata": {},
   "outputs": [
    {
     "name": "stdout",
     "output_type": "stream",
     "text": [
      "Ingrese un numero: -2\n",
      "Numero no positivo\n"
     ]
    }
   ],
   "source": [
    "positivo_o_no()"
   ]
  },
  {
   "cell_type": "code",
   "execution_count": null,
   "metadata": {},
   "outputs": [],
   "source": []
  },
  {
   "cell_type": "code",
   "execution_count": 8,
   "metadata": {},
   "outputs": [],
   "source": [
    "def pn1():\n",
    "    x = int(input(\"Ingrese un nro: \"))\n",
    "    if x > 0:\n",
    "        print(\"Número positivo\")\n",
    "    x = -x\n",
    "    if x < 0:\n",
    "        print(\"Número no positivo\")"
   ]
  },
  {
   "cell_type": "code",
   "execution_count": 9,
   "metadata": {},
   "outputs": [
    {
     "name": "stdout",
     "output_type": "stream",
     "text": [
      "Ingrese un nro: 3\n",
      "Número positivo\n",
      "Número no positivo\n"
     ]
    }
   ],
   "source": [
    "pn1()"
   ]
  },
  {
   "cell_type": "markdown",
   "metadata": {},
   "source": [
    "El programa anterior ejecuta los dos if, por lo tanto al momento de negar x se vuelve a ejecutar el 2° if y tenemos 2 resultados"
   ]
  },
  {
   "cell_type": "code",
   "execution_count": 10,
   "metadata": {},
   "outputs": [],
   "source": [
    "def pn2():\n",
    "    x = int(input(\"Ingrese un nro: \"))\n",
    "    if x > 0:\n",
    "        print(\"Número positivo\")\n",
    "    else:\n",
    "        print(\"Número no positivo\")"
   ]
  },
  {
   "cell_type": "code",
   "execution_count": 11,
   "metadata": {},
   "outputs": [
    {
     "name": "stdout",
     "output_type": "stream",
     "text": [
      "Ingrese un nro: -2\n",
      "Número no positivo\n"
     ]
    }
   ],
   "source": [
    "pn2()"
   ]
  }
 ],
 "metadata": {
  "kernelspec": {
   "display_name": "Python 3",
   "language": "python",
   "name": "python3"
  },
  "language_info": {
   "codemirror_mode": {
    "name": "ipython",
    "version": 3
   },
   "file_extension": ".py",
   "mimetype": "text/x-python",
   "name": "python",
   "nbconvert_exporter": "python",
   "pygments_lexer": "ipython3",
   "version": "3.7.1"
  }
 },
 "nbformat": 4,
 "nbformat_minor": 2
}
