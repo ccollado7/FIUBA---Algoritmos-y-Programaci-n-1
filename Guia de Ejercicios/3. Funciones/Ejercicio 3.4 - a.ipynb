{
 "cells": [
  {
   "cell_type": "markdown",
   "metadata": {},
   "source": [
    "### Ejercicio 3.3 a)\n",
    "\n",
    "Escribir una función que reciba las coordenadas de un vector en ℝ3 (x,y,z) y devuelva\n",
    "la norma del vector"
   ]
  },
  {
   "cell_type": "code",
   "execution_count": 5,
   "metadata": {},
   "outputs": [],
   "source": [
    "def norma_vector(coord_x,coord_y,coord_z):\n",
    "    '''La funcion recibe como parametros los valores (x,y,z) de un vector y devuelve la norma del mismo'''\n",
    "    x = coord_x**2\n",
    "    y = coord_y**2\n",
    "    z = coord_z**2\n",
    "    vector = (x,y,z)\n",
    "    norma = (x + y + z)**(1/2)\n",
    "    \n",
    "    return (\"La norma del vector con coordenadas \" + str(vector) + \" es igual a \" + str(round(norma,2)))"
   ]
  },
  {
   "cell_type": "code",
   "execution_count": 6,
   "metadata": {},
   "outputs": [
    {
     "data": {
      "text/plain": [
       "'La norma del vector con coordenadas (1, 1, 1) es igual a 1.73'"
      ]
     },
     "execution_count": 6,
     "metadata": {},
     "output_type": "execute_result"
    }
   ],
   "source": [
    "norma_vector(1,1,1)"
   ]
  }
 ],
 "metadata": {
  "kernelspec": {
   "display_name": "Python 3",
   "language": "python",
   "name": "python3"
  },
  "language_info": {
   "codemirror_mode": {
    "name": "ipython",
    "version": 3
   },
   "file_extension": ".py",
   "mimetype": "text/x-python",
   "name": "python",
   "nbconvert_exporter": "python",
   "pygments_lexer": "ipython3",
   "version": "3.7.1"
  }
 },
 "nbformat": 4,
 "nbformat_minor": 2
}
