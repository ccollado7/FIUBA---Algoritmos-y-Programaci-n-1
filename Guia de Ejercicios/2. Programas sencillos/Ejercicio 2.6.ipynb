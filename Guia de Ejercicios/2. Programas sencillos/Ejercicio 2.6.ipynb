{
 "cells": [
  {
   "cell_type": "markdown",
   "metadata": {},
   "source": [
    "### Ejercicio 2.6\n",
    "\n",
    "Escribir un programa que tome una cantidad m de valores ingresados por el usuario, a cada uno le calcule el factorial (utilizando la funcion escrita en el ejercicio 1.4) e imprima el resultado junto con el numero de orden correspondiente"
   ]
  },
  {
   "cell_type": "code",
   "execution_count": 2,
   "metadata": {},
   "outputs": [],
   "source": [
    "def factorial(n):\n",
    "    '''Se ingresa como argumento de la funcion un numero entero n. Devuelve el factorial de ese numero'''\n",
    "    if n == 0: #Caso base factorial de 0 es 1\n",
    "        factorial = 1\n",
    "        return(\"El factorial de \" + str(n) + \" es igual a \" + str(factorial))\n",
    "    elif n == 1: #Caso base factorial de 1 es 1\n",
    "        factorial = 1\n",
    "        return(\"El factorial de \" + str(n) + \" es igual a \" + str(factorial))\n",
    "    else: #En este bloque calculo los factoriales para n > 1\n",
    "        factorial = 1\n",
    "        for i in range(1,n+1):\n",
    "            factorial = factorial * i\n",
    "        return(\"El factorial de \" + str(n) + \" es igual a \" + str(factorial))"
   ]
  },
  {
   "cell_type": "code",
   "execution_count": 10,
   "metadata": {},
   "outputs": [],
   "source": [
    "def valores():\n",
    "    m = int(input(\"Por favor ingrese un numero entero: \"))\n",
    "    for i in range(m+1):\n",
    "        print(factorial(i))"
   ]
  },
  {
   "cell_type": "code",
   "execution_count": 11,
   "metadata": {},
   "outputs": [
    {
     "name": "stdout",
     "output_type": "stream",
     "text": [
      "Por favor ingrese un numero entero: 5\n",
      "El factorial de 0 es igual a 1\n",
      "El factorial de 1 es igual a 1\n",
      "El factorial de 2 es igual a 2\n",
      "El factorial de 3 es igual a 6\n",
      "El factorial de 4 es igual a 24\n",
      "El factorial de 5 es igual a 120\n"
     ]
    }
   ],
   "source": [
    "valores()"
   ]
  }
 ],
 "metadata": {
  "kernelspec": {
   "display_name": "Python 3",
   "language": "python",
   "name": "python3"
  },
  "language_info": {
   "codemirror_mode": {
    "name": "ipython",
    "version": 3
   },
   "file_extension": ".py",
   "mimetype": "text/x-python",
   "name": "python",
   "nbconvert_exporter": "python",
   "pygments_lexer": "ipython3",
   "version": "3.7.1"
  }
 },
 "nbformat": 4,
 "nbformat_minor": 2
}
