{
 "cells": [
  {
   "cell_type": "markdown",
   "metadata": {},
   "source": [
    "### Ejercicio 1.1\n",
    "\n",
    "Escribir un programa que pregunte al usuario:\n",
    "\n",
    "    a) su nombre y luego lo salude"
   ]
  },
  {
   "cell_type": "code",
   "execution_count": 3,
   "metadata": {},
   "outputs": [],
   "source": [
    "def interaccion():\n",
    "    '''Esta funcion solicita que se ingrese el nombre y devuelve un saludo personalizado'''\n",
    "    nombre = input(\"Buen dia, ¿Cual es tu nombre:?\") #Solicito el nombre\n",
    "    return(\"Mucho gusto \" + str(nombre) + \"!, my nombre es Python\") #Devuelve el saludo"
   ]
  },
  {
   "cell_type": "code",
   "execution_count": 6,
   "metadata": {},
   "outputs": [
    {
     "name": "stdout",
     "output_type": "stream",
     "text": [
      "Buen dia, ¿Cual es tu nombre:?Claudio\n"
     ]
    },
    {
     "data": {
      "text/plain": [
       "'Mucho gusto Claudio!, my nombre es Python'"
      ]
     },
     "execution_count": 6,
     "metadata": {},
     "output_type": "execute_result"
    }
   ],
   "source": [
    "interaccion()"
   ]
  },
  {
   "cell_type": "markdown",
   "metadata": {},
   "source": [
    "    b) dos numeros y luego muestre el producto"
   ]
  },
  {
   "cell_type": "code",
   "execution_count": 8,
   "metadata": {},
   "outputs": [],
   "source": [
    "def producto():\n",
    "    '''Esta funcion solicita que se ingresen 2 numeros enteros o flotante y devuelve el producto de ellos en forma entera'''\n",
    "    p = int(input(\"Por favor ingrese el 1° numero: \"))\n",
    "    q = int(input(\"Por favor ingrese el 2° numero: \"))\n",
    "    producto = p*q\n",
    "    return(\"El producto de los numeros ingresados es: \" + str(producto))"
   ]
  },
  {
   "cell_type": "code",
   "execution_count": 15,
   "metadata": {},
   "outputs": [
    {
     "name": "stdout",
     "output_type": "stream",
     "text": [
      "Por favor ingrese el 1° numero: 2\n",
      "Por favor ingrese el 2° numero: 3\n"
     ]
    },
    {
     "data": {
      "text/plain": [
       "'El producto de los numeros ingresados es: 6'"
      ]
     },
     "execution_count": 15,
     "metadata": {},
     "output_type": "execute_result"
    }
   ],
   "source": [
    "producto()"
   ]
  }
 ],
 "metadata": {
  "kernelspec": {
   "display_name": "Python 3",
   "language": "python",
   "name": "python3"
  },
  "language_info": {
   "codemirror_mode": {
    "name": "ipython",
    "version": 3
   },
   "file_extension": ".py",
   "mimetype": "text/x-python",
   "name": "python",
   "nbconvert_exporter": "python",
   "pygments_lexer": "ipython3",
   "version": "3.7.1"
  }
 },
 "nbformat": 4,
 "nbformat_minor": 2
}
