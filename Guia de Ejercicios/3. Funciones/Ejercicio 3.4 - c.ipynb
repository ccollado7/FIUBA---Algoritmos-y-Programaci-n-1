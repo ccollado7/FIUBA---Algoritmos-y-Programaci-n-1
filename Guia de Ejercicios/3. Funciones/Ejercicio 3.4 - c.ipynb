{
 "cells": [
  {
   "cell_type": "markdown",
   "metadata": {},
   "source": [
    "### Ejercicio 3.3 c)\n",
    "\n",
    "Escribir una función que reciba las coordenadas de dos vectores en ℝ3 y devuelva las\n",
    "coordenadas del producto vectorial, definido como:"
   ]
  },
  {
   "cell_type": "code",
   "execution_count": 5,
   "metadata": {},
   "outputs": [],
   "source": [
    "def producto_vectorial(coord_x1,coord_y1,coord_z1,coord_x2,coord_y2,coord_z2):\n",
    "    '''La funcion recibe como parametros los componentes (x,y,z) de dos vectores.\n",
    "    Devuelve el producto vectorial entre los vectores'''\n",
    "    \n",
    "    p1 = (coord_y1 * coord_z2) - (coord_z1 * coord_y2)\n",
    "    p2 = (coord_z1 * coord_x2) - (coord_x1 * coord_z2)\n",
    "    p3 = (coord_x1 * coord_y2) - (coord_y1 * coord_x2)\n",
    "    \n",
    "    vector1 = (coord_x1,coord_y1,coord_z1)\n",
    "    vector2 = (coord_x2,coord_y2,coord_z2)\n",
    "    \n",
    "    producto_vector = (p1,p2,p3)\n",
    "    \n",
    "    return (\"El producto vectorial el vector v1: \" + str(vector1) + \" y el vector v2: \" + str(vector2) + \" es igual a: \" + str(producto_vector))"
   ]
  },
  {
   "cell_type": "code",
   "execution_count": 6,
   "metadata": {},
   "outputs": [
    {
     "data": {
      "text/plain": [
       "'El producto vectorial el vector v1: (1, 4, -2) y el vector v2: (3, -1, 0) es igual a: (-2, -6, -13)'"
      ]
     },
     "execution_count": 6,
     "metadata": {},
     "output_type": "execute_result"
    }
   ],
   "source": [
    "producto_vectorial(1,4,-2,3,-1,0)"
   ]
  }
 ],
 "metadata": {
  "kernelspec": {
   "display_name": "Python 3",
   "language": "python",
   "name": "python3"
  },
  "language_info": {
   "codemirror_mode": {
    "name": "ipython",
    "version": 3
   },
   "file_extension": ".py",
   "mimetype": "text/x-python",
   "name": "python",
   "nbconvert_exporter": "python",
   "pygments_lexer": "ipython3",
   "version": "3.7.1"
  }
 },
 "nbformat": 4,
 "nbformat_minor": 2
}
