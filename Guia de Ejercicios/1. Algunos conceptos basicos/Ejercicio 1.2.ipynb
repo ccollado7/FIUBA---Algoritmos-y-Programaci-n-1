{
 "cells": [
  {
   "cell_type": "markdown",
   "metadata": {},
   "source": [
    "### Ejercicio 1.2\n",
    "\n",
    "Implementar algoritmos que permitan:\n",
    "\n",
    "    a) Calcular el perimetro de un rectangulo dada su base y su altura"
   ]
  },
  {
   "cell_type": "code",
   "execution_count": 5,
   "metadata": {},
   "outputs": [],
   "source": [
    "def perimetro_rectangulo():\n",
    "    '''Esta funcion solicita se ingrese la base y altura de un rectangulo. Devuelve el perimetro del mismo'''\n",
    "    base = float(input(\"Por favor ingrese el valor de la base del rectangulo: \"))\n",
    "    altura = float(input(\"Por favor ingrese el valor de la altura del rectangulo: \"))\n",
    "    perimetro = (2*base) + (2*altura)\n",
    "    return(\"El perimetro del rectangulo es: \" + str(perimetro))"
   ]
  },
  {
   "cell_type": "code",
   "execution_count": 6,
   "metadata": {},
   "outputs": [
    {
     "name": "stdout",
     "output_type": "stream",
     "text": [
      "Por favor ingrese el valor de la base del rectangulo: 3\n",
      "Por favor ingrese el valor de la altura del rectangulo: 4\n"
     ]
    },
    {
     "data": {
      "text/plain": [
       "'El perimetro del rectangulo es: 14.0'"
      ]
     },
     "execution_count": 6,
     "metadata": {},
     "output_type": "execute_result"
    }
   ],
   "source": [
    "perimetro_rectangulo()"
   ]
  },
  {
   "cell_type": "markdown",
   "metadata": {},
   "source": [
    "    b) Calcular el area de un rectangulo dada su base y altura"
   ]
  },
  {
   "cell_type": "code",
   "execution_count": 13,
   "metadata": {},
   "outputs": [],
   "source": [
    "def area_rectangulo():\n",
    "    '''Esta funcion solicita se ingrese la base y altura de un rectangulo. Devuelve el area del mismo'''\n",
    "    base = float(input(\"Por favor ingrese el valor de la base del rectangulo: \"))\n",
    "    altura = float(input(\"Por favor ingrese el valor de la altura del rectangulo: \"))\n",
    "    area = base * altura\n",
    "    return(\"El area del rectangulo es: \" + str(area))"
   ]
  },
  {
   "cell_type": "code",
   "execution_count": 8,
   "metadata": {},
   "outputs": [
    {
     "name": "stdout",
     "output_type": "stream",
     "text": [
      "Por favor ingrese el valor de la base del rectangulo: 4\n",
      "Por favor ingrese el valor de la altura del rectangulo: 3\n"
     ]
    },
    {
     "data": {
      "text/plain": [
       "'El area del rectangulo es: 12.0'"
      ]
     },
     "execution_count": 8,
     "metadata": {},
     "output_type": "execute_result"
    }
   ],
   "source": [
    "area_rectangulo()"
   ]
  },
  {
   "cell_type": "markdown",
   "metadata": {},
   "source": [
    "    c) Calcular el area de un rectangulo (alineado con los ejes x e y) dadas sus coordenadas x1,x2,y1,y2"
   ]
  },
  {
   "cell_type": "code",
   "execution_count": 18,
   "metadata": {},
   "outputs": [],
   "source": [
    "def area_rectangulo_coord():\n",
    "    '''Esta funcion solicita se ingresen las siguientes coordenadasde un rectangulo:\n",
    "    \n",
    "    Coordenadas del eje x: x1 y x2\n",
    "    Coordenadas del eje y: y1 e y2\n",
    "    \n",
    "    Devuelve el area del rectangulo alineado a los eje x e y'''\n",
    "    \n",
    "    x1 = float(input(\"Por favor ingrese la coordenada x1 del rectangulo: \"))\n",
    "    x2 = float(input(\"Por favor ingrese la coordenada x2 del rectangulo: \"))\n",
    "    y1 = float(input(\"Por favor ingrese la coordenada y1 del rectangulo: \"))\n",
    "    y2 = float(input(\"Por favor ingrese la coordenada y2 del rectangulo: \"))\n",
    "    delta_x = abs(x2 - x1)\n",
    "    delta_y = abs(y2 - y1)\n",
    "    area = delta_x * delta_y\n",
    "    return(\"El area del rectangulo es: \" + str(area))"
   ]
  },
  {
   "cell_type": "code",
   "execution_count": 20,
   "metadata": {},
   "outputs": [
    {
     "name": "stdout",
     "output_type": "stream",
     "text": [
      "Por favor ingrese la coordenada x1 del rectangulo: 4\n",
      "Por favor ingrese la coordenada x2 del rectangulo: 2\n",
      "Por favor ingrese la coordenada y1 del rectangulo: 4\n",
      "Por favor ingrese la coordenada y2 del rectangulo: 6\n"
     ]
    },
    {
     "data": {
      "text/plain": [
       "'El area del rectangulo es: 4.0'"
      ]
     },
     "execution_count": 20,
     "metadata": {},
     "output_type": "execute_result"
    }
   ],
   "source": [
    "area_rectangulo_coord()"
   ]
  },
  {
   "cell_type": "markdown",
   "metadata": {},
   "source": [
    "    d) Calcular el perimetro de un circulo dado su radio"
   ]
  },
  {
   "cell_type": "code",
   "execution_count": 34,
   "metadata": {},
   "outputs": [],
   "source": [
    "def perimetro_circulo():\n",
    "    '''Esta funcion solicita se ingrese el radio del circulo. Devuelve el perimetro del mismo redondeado a 2 decimales'''\n",
    "    import math\n",
    "    radio = float(input(\"Por favor ingrese el radio del circulo: \"))\n",
    "    perimetro = 2 * (math.pi) * radio\n",
    "    return(\"El perimetro del circulo es: \" + str(round(perimetro,2)))"
   ]
  },
  {
   "cell_type": "code",
   "execution_count": 36,
   "metadata": {},
   "outputs": [
    {
     "name": "stdout",
     "output_type": "stream",
     "text": [
      "Por favor ingrese el radio del circulo: 2\n"
     ]
    },
    {
     "data": {
      "text/plain": [
       "'El perimetro del circulo es: 12.57'"
      ]
     },
     "execution_count": 36,
     "metadata": {},
     "output_type": "execute_result"
    }
   ],
   "source": [
    "perimetro_circulo()"
   ]
  },
  {
   "cell_type": "markdown",
   "metadata": {},
   "source": [
    "    e) Calcular el area de un circulo dado su radio"
   ]
  },
  {
   "cell_type": "code",
   "execution_count": 37,
   "metadata": {},
   "outputs": [],
   "source": [
    "def area_circulo():\n",
    "    '''Esta funcion solicita se ingrese el radio del circulo. Devuelve el area del mismo redondeado a 2 decimales'''\n",
    "    import math\n",
    "    radio = float(input(\"Por favor ingrese el radio del circulo: \"))\n",
    "    area = (math.pi) * (radio**2)\n",
    "    return(\"El area del circulo es: \" + str(round(area,2)))"
   ]
  },
  {
   "cell_type": "code",
   "execution_count": 38,
   "metadata": {},
   "outputs": [
    {
     "name": "stdout",
     "output_type": "stream",
     "text": [
      "Por favor ingrese el radio del circulo: 1.5\n"
     ]
    },
    {
     "data": {
      "text/plain": [
       "'El area del circulo es: 7.07'"
      ]
     },
     "execution_count": 38,
     "metadata": {},
     "output_type": "execute_result"
    }
   ],
   "source": [
    "area_circulo()"
   ]
  },
  {
   "cell_type": "markdown",
   "metadata": {},
   "source": [
    "    f) Calcular el volumen de una esfera dado su radio"
   ]
  },
  {
   "cell_type": "code",
   "execution_count": 39,
   "metadata": {},
   "outputs": [],
   "source": [
    "def volumen_esfera():\n",
    "    '''Esta funcion solicita se ingrese el radio de la esfera. Devuelve el volumen de la misma redondeado a 2 decimales'''\n",
    "    import math\n",
    "    radio = float(input(\"Por favor ingrese el radio de la esfera: \"))\n",
    "    volumen = (4/3) * (math.pi) * (radio**3)\n",
    "    return(\"El volumen de la esfera es: \" + str(round(volumen,2)))"
   ]
  },
  {
   "cell_type": "code",
   "execution_count": 41,
   "metadata": {},
   "outputs": [
    {
     "name": "stdout",
     "output_type": "stream",
     "text": [
      "Por favor ingrese el radio de la esfera: 1\n"
     ]
    },
    {
     "data": {
      "text/plain": [
       "'El volumen de la esfera es: 4.19'"
      ]
     },
     "execution_count": 41,
     "metadata": {},
     "output_type": "execute_result"
    }
   ],
   "source": [
    "volumen_esfera()"
   ]
  },
  {
   "cell_type": "markdown",
   "metadata": {},
   "source": [
    "    g) Dados los catetos de un triangulo rectangulo, calcular la hipotenusa "
   ]
  },
  {
   "cell_type": "code",
   "execution_count": 42,
   "metadata": {},
   "outputs": [],
   "source": [
    "def hipotenusa():\n",
    "    '''Esta funcion solicita se ingresen los catetos del triangulo rectangulo:\n",
    "    \n",
    "    c1: Cateto N°1\n",
    "    c2: Cateto N°2\n",
    "    \n",
    "    Devuelve la hipotenusa '''\n",
    "    import math\n",
    "    c1 = float(input(\"Por favor ingrese el valor del 1° cateto: \"))\n",
    "    c2 = float(input(\"Por favor ingrese el valor del 2° cateto: \"))\n",
    "    hipotenusa = math.sqrt((c1**2) + (c2**2))\n",
    "    return(\"La hipotenusa del triangulo rectangulo es: \" + str(round(hipotenusa,2)))"
   ]
  },
  {
   "cell_type": "code",
   "execution_count": 45,
   "metadata": {},
   "outputs": [
    {
     "name": "stdout",
     "output_type": "stream",
     "text": [
      "Por favor ingrese el valor del 1° cateto: 1.41\n",
      "Por favor ingrese el valor del 2° cateto: 1.41\n"
     ]
    },
    {
     "data": {
      "text/plain": [
       "'La hipotenusa del triangulo rectangulo es: 1.99'"
      ]
     },
     "execution_count": 45,
     "metadata": {},
     "output_type": "execute_result"
    }
   ],
   "source": [
    "hipotenusa()"
   ]
  }
 ],
 "metadata": {
  "kernelspec": {
   "display_name": "Python 3",
   "language": "python",
   "name": "python3"
  },
  "language_info": {
   "codemirror_mode": {
    "name": "ipython",
    "version": 3
   },
   "file_extension": ".py",
   "mimetype": "text/x-python",
   "name": "python",
   "nbconvert_exporter": "python",
   "pygments_lexer": "ipython3",
   "version": "3.7.1"
  }
 },
 "nbformat": 4,
 "nbformat_minor": 2
}
