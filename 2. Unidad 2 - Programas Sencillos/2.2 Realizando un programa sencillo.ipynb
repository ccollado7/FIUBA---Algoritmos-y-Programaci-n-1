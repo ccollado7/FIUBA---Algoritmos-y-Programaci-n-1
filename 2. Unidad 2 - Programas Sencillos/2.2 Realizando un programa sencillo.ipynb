{
 "cells": [
  {
   "cell_type": "markdown",
   "metadata": {},
   "source": [
    "## 2.2 Realizando un programa sencillo\n"
   ]
  },
  {
   "cell_type": "markdown",
   "metadata": {},
   "source": [
    "### Codigo 2.1 - Convierte medidas inglesas a sistema metrico"
   ]
  },
  {
   "cell_type": "code",
   "execution_count": 6,
   "metadata": {},
   "outputs": [],
   "source": [
    "def main():\n",
    "    '''Esta funcion recibe como datos de entrada la cantidad de millas, pies y pulgas y devuelve la suma de esos valores convertidos a metros'''\n",
    "    \n",
    "    print(\"Convierte medidas inglesas a sistema metrico\")\n",
    "    \n",
    "    millas = int(input(\"Cuantas millas?: \"))\n",
    "    pies = int(input(\"y cuantos pies?: \"))\n",
    "    pulgadas = int(input(\"y cuantas pulgadas: \"))\n",
    "    \n",
    "    metros = (1609.344 * millas) + (0.3048 * pies) + (0.0254 * pulgadas)\n",
    "    print(\"La longitud es de: \", metros, \" metros\")"
   ]
  },
  {
   "cell_type": "code",
   "execution_count": 9,
   "metadata": {},
   "outputs": [
    {
     "name": "stdout",
     "output_type": "stream",
     "text": [
      "Convierte medidas inglesas a sistema metrico\n",
      "Cuantas millas?: 4\n",
      "y cuantos pies?: 5\n",
      "y cuantas pulgadas: 5\n",
      "La longitud es de:  6439.027000000001  metros\n"
     ]
    }
   ],
   "source": [
    "main()"
   ]
  }
 ],
 "metadata": {
  "kernelspec": {
   "display_name": "Python 3",
   "language": "python",
   "name": "python3"
  },
  "language_info": {
   "codemirror_mode": {
    "name": "ipython",
    "version": 3
   },
   "file_extension": ".py",
   "mimetype": "text/x-python",
   "name": "python",
   "nbconvert_exporter": "python",
   "pygments_lexer": "ipython3",
   "version": "3.7.1"
  }
 },
 "nbformat": 4,
 "nbformat_minor": 2
}
