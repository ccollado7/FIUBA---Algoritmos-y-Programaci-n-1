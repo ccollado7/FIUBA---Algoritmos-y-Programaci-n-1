{
 "cells": [
  {
   "cell_type": "markdown",
   "metadata": {},
   "source": [
    "### Ejercicio 2.3\n",
    "\n",
    "Escribir un programa que utilice la funcion del Problema 2.2 para generar una tabla de conversion de temperaturas,desde 0°F hasta 120°F de 10 en 10"
   ]
  },
  {
   "cell_type": "markdown",
   "metadata": {},
   "source": [
    "Debido a como defini en el Problema 2.2 la funcion que calcula la conversion de temperatura, para poder utilizarla en este problema tengo que modificarla de forma tal que tome como argumento el valor de temperatura a convertir"
   ]
  },
  {
   "cell_type": "code",
   "execution_count": 4,
   "metadata": {},
   "outputs": [],
   "source": [
    "def convertir_temperatura(fahrenheit):\n",
    "    '''Se recibe como parametro el valor numerico de temperatura en grados Fahrenheit y se devuelve el valor en grados Celsius'''\n",
    "    \n",
    "    f = float(fahrenheit)\n",
    "    c = (f - 32) * (5/9)\n",
    "    return(\"El valor de temperatura \" + str(f) +\"°F es igual a \" + str(round(c,2)) + \"°C\")"
   ]
  },
  {
   "cell_type": "code",
   "execution_count": 8,
   "metadata": {},
   "outputs": [
    {
     "name": "stdout",
     "output_type": "stream",
     "text": [
      "El valor de temperatura 0.0°F es igual a -17.78°C\n",
      "El valor de temperatura 10.0°F es igual a -12.22°C\n",
      "El valor de temperatura 20.0°F es igual a -6.67°C\n",
      "El valor de temperatura 30.0°F es igual a -1.11°C\n",
      "El valor de temperatura 40.0°F es igual a 4.44°C\n",
      "El valor de temperatura 50.0°F es igual a 10.0°C\n",
      "El valor de temperatura 60.0°F es igual a 15.56°C\n",
      "El valor de temperatura 70.0°F es igual a 21.11°C\n",
      "El valor de temperatura 80.0°F es igual a 26.67°C\n",
      "El valor de temperatura 90.0°F es igual a 32.22°C\n",
      "El valor de temperatura 100.0°F es igual a 37.78°C\n"
     ]
    }
   ],
   "source": [
    "for i in range(0,101,10):\n",
    "    print(convertir_temperatura(i))"
   ]
  }
 ],
 "metadata": {
  "kernelspec": {
   "display_name": "Python 3",
   "language": "python",
   "name": "python3"
  },
  "language_info": {
   "codemirror_mode": {
    "name": "ipython",
    "version": 3
   },
   "file_extension": ".py",
   "mimetype": "text/x-python",
   "name": "python",
   "nbconvert_exporter": "python",
   "pygments_lexer": "ipython3",
   "version": "3.7.1"
  }
 },
 "nbformat": 4,
 "nbformat_minor": 2
}
