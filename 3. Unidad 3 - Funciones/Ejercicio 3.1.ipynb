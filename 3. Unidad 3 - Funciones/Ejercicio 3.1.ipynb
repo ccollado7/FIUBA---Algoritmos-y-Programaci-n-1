{
 "cells": [
  {
   "cell_type": "markdown",
   "metadata": {},
   "source": [
    "## Ejercicio 3.1\n",
    "\n",
    "Escribir una funcion `repite_hola` que reciba como parametro un numero entereo n y escriba por pantalla el mensaje \"Hola\" n veces. Invocarla con distintos valores de n \n"
   ]
  },
  {
   "cell_type": "markdown",
   "metadata": {},
   "source": [
    "### Opcion N°1 "
   ]
  },
  {
   "cell_type": "code",
   "execution_count": 3,
   "metadata": {},
   "outputs": [],
   "source": [
    "def repite_hola(n):\n",
    "    for i in range(n):\n",
    "        print (\"Hola\")"
   ]
  },
  {
   "cell_type": "code",
   "execution_count": 4,
   "metadata": {},
   "outputs": [
    {
     "name": "stdout",
     "output_type": "stream",
     "text": [
      "Hola\n",
      "Hola\n",
      "Hola\n",
      "Hola\n"
     ]
    }
   ],
   "source": [
    "repite_hola(4)"
   ]
  },
  {
   "cell_type": "code",
   "execution_count": 5,
   "metadata": {},
   "outputs": [
    {
     "name": "stdout",
     "output_type": "stream",
     "text": [
      "Hola\n",
      "Hola\n",
      "Hola\n",
      "Hola\n",
      "Hola\n",
      "Hola\n"
     ]
    }
   ],
   "source": [
    "repite_hola(6)"
   ]
  },
  {
   "cell_type": "markdown",
   "metadata": {},
   "source": [
    "### Opcion N°2 "
   ]
  },
  {
   "cell_type": "code",
   "execution_count": 14,
   "metadata": {},
   "outputs": [],
   "source": [
    "def mensaje():\n",
    "    return (\"Hola\")"
   ]
  },
  {
   "cell_type": "code",
   "execution_count": 17,
   "metadata": {},
   "outputs": [],
   "source": [
    "def repite_hola_new(n):\n",
    "    for i in range(n):\n",
    "        print(mensaje())"
   ]
  },
  {
   "cell_type": "code",
   "execution_count": 20,
   "metadata": {},
   "outputs": [
    {
     "name": "stdout",
     "output_type": "stream",
     "text": [
      "Hola\n",
      "Hola\n",
      "Hola\n"
     ]
    }
   ],
   "source": [
    "repite_hola_new(3)"
   ]
  }
 ],
 "metadata": {
  "kernelspec": {
   "display_name": "Python 3",
   "language": "python",
   "name": "python3"
  },
  "language_info": {
   "codemirror_mode": {
    "name": "ipython",
    "version": 3
   },
   "file_extension": ".py",
   "mimetype": "text/x-python",
   "name": "python",
   "nbconvert_exporter": "python",
   "pygments_lexer": "ipython3",
   "version": "3.7.1"
  }
 },
 "nbformat": 4,
 "nbformat_minor": 2
}
