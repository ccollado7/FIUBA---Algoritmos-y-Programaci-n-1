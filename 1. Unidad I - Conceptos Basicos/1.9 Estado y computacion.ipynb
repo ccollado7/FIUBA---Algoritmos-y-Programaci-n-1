{
 "cells": [
  {
   "cell_type": "markdown",
   "metadata": {},
   "source": [
    "# 1.9 Estado y computacion"
   ]
  },
  {
   "cell_type": "markdown",
   "metadata": {},
   "source": [
    "## 1.9.1 Depuracion de programas "
   ]
  },
  {
   "cell_type": "code",
   "execution_count": 2,
   "metadata": {},
   "outputs": [],
   "source": [
    "def imprimir_cuadros():\n",
    "    print(\"Se calcularan cuadrados de numeros\")\n",
    "    \n",
    "    n1 = int(input(\"Ingrese un numero entero: \"))\n",
    "    print(\"el valor de n1 es: \", n1)\n",
    "    n2 = int(input(\"Ingrese otro numero entero: \"))\n",
    "    print(\"el valor de n2 es: \", n2)\n",
    "    \n",
    "    for x in range(n1,n2):\n",
    "        print(\"el valor de x es: \", x)\n",
    "        print(x * x)\n",
    "        \n",
    "    print(\"Es todo por ahora\")"
   ]
  },
  {
   "cell_type": "code",
   "execution_count": 4,
   "metadata": {},
   "outputs": [
    {
     "name": "stdout",
     "output_type": "stream",
     "text": [
      "Se calcularan cuadrados de numeros\n",
      "Ingrese un numero entero: 2\n",
      "el valor de n1 es:  2\n",
      "Ingrese otro numero entero: 6\n",
      "el valor de n2 es:  6\n",
      "el valor de x es:  2\n",
      "4\n",
      "el valor de x es:  3\n",
      "9\n",
      "el valor de x es:  4\n",
      "16\n",
      "el valor de x es:  5\n",
      "25\n",
      "Es todo por ahora\n"
     ]
    }
   ],
   "source": [
    "imprimir_cuadros()"
   ]
  }
 ],
 "metadata": {
  "kernelspec": {
   "display_name": "Python 3",
   "language": "python",
   "name": "python3"
  },
  "language_info": {
   "codemirror_mode": {
    "name": "ipython",
    "version": 3
   },
   "file_extension": ".py",
   "mimetype": "text/x-python",
   "name": "python",
   "nbconvert_exporter": "python",
   "pygments_lexer": "ipython3",
   "version": "3.7.1"
  }
 },
 "nbformat": 4,
 "nbformat_minor": 2
}
