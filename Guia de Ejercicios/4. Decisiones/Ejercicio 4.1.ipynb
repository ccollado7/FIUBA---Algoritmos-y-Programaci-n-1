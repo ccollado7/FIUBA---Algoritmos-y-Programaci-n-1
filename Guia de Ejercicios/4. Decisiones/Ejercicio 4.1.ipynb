{
 "cells": [
  {
   "cell_type": "markdown",
   "metadata": {},
   "source": [
    "### Ejercicio 4.1\n",
    "\n",
    "Escribir dos funciones que resuelvan los siguientes problemas:\n",
    "\n",
    "    a) Dado un número entero 𝑛, indicar si es par o no."
   ]
  },
  {
   "cell_type": "code",
   "execution_count": 232,
   "metadata": {},
   "outputs": [],
   "source": [
    "def par_no_par(n):\n",
    "    '''La funcion toma como parametro un numero entero.\n",
    "    Devuelve un mensaje indicando si el mensaje es Par o Impar'''\n",
    "    \n",
    "    if (n % 2 == 0):\n",
    "        print(\"El numero es Par\")\n",
    "    else:\n",
    "        print(\"El numero es Impar\")"
   ]
  },
  {
   "cell_type": "code",
   "execution_count": 233,
   "metadata": {},
   "outputs": [
    {
     "name": "stdout",
     "output_type": "stream",
     "text": [
      "El numero es Impar\n"
     ]
    }
   ],
   "source": [
    "par_no_par(7)"
   ]
  },
  {
   "cell_type": "markdown",
   "metadata": {},
   "source": [
    "    b) Dado un número entero 𝑛, indicar si es primo o no."
   ]
  },
  {
   "cell_type": "markdown",
   "metadata": {},
   "source": [
    "Los numeros primos son aquellos que solo son divisibles entre ellos mismos y el numero 1\n",
    "\n",
    "El algoritmo mas sencillo que puede utilizarse para saber si un numero n es primo es de la `division`. Se trata de is probando para ver si tiene algun divisor propio. Para ello vamos dividiendo el numero n entre 2,3,4... (n-1). Si alguna de las divisiones es exacta (da resto 0) podemos asegurar que el numero n es compuesto (no es primo)"
   ]
  },
  {
   "cell_type": "code",
   "execution_count": 270,
   "metadata": {},
   "outputs": [],
   "source": [
    "def primo_no_primo(n):\n",
    "    if n == 1: #El numero 1 por definicion es un numero primo\n",
    "        print(\"El numero \" + str(n) + \" es primo\")\n",
    "    else:\n",
    "        for i in range(2,n): #Recorro todos los numeros enteros entre 2 y (n-1)\n",
    "            if (n % i) == 0: #Para cada numero entero entre 2 y (n-1) evaluo si la division da resto 0. Si esto es asi imprimo un mensaje y finalizo el ciclo con \"break\"\n",
    "                print(\"El numero \" + str(n) +  \" NO es Primo\")\n",
    "                break\n",
    "        else: #Si se recorre el bucle for anterior y no se sale del mismo entonces el numero es primo. Se imprime mensaje\n",
    "            print(\"El numero \" + str(n) +\" es Primo\")"
   ]
  },
  {
   "cell_type": "code",
   "execution_count": 273,
   "metadata": {},
   "outputs": [
    {
     "name": "stdout",
     "output_type": "stream",
     "text": [
      "El numero 1 es primo\n",
      "El numero 2 es Primo\n",
      "El numero 3 es Primo\n",
      "El numero 4 NO es Primo\n",
      "El numero 5 es Primo\n",
      "El numero 6 NO es Primo\n",
      "El numero 7 es Primo\n",
      "El numero 8 NO es Primo\n",
      "El numero 9 NO es Primo\n",
      "El numero 10 NO es Primo\n",
      "El numero 11 es Primo\n",
      "El numero 12 NO es Primo\n",
      "El numero 13 es Primo\n",
      "El numero 14 NO es Primo\n",
      "El numero 15 NO es Primo\n",
      "El numero 16 NO es Primo\n",
      "El numero 17 es Primo\n",
      "El numero 18 NO es Primo\n",
      "El numero 19 es Primo\n",
      "El numero 20 NO es Primo\n",
      "El numero 21 NO es Primo\n",
      "El numero 22 NO es Primo\n",
      "El numero 23 es Primo\n",
      "El numero 24 NO es Primo\n",
      "El numero 25 NO es Primo\n",
      "El numero 26 NO es Primo\n",
      "El numero 27 NO es Primo\n",
      "El numero 28 NO es Primo\n",
      "El numero 29 es Primo\n",
      "El numero 30 NO es Primo\n",
      "El numero 31 es Primo\n",
      "El numero 32 NO es Primo\n",
      "El numero 33 NO es Primo\n",
      "El numero 34 NO es Primo\n",
      "El numero 35 NO es Primo\n",
      "El numero 36 NO es Primo\n",
      "El numero 37 es Primo\n",
      "El numero 38 NO es Primo\n",
      "El numero 39 NO es Primo\n",
      "El numero 40 NO es Primo\n",
      "El numero 41 es Primo\n",
      "El numero 42 NO es Primo\n",
      "El numero 43 es Primo\n",
      "El numero 44 NO es Primo\n",
      "El numero 45 NO es Primo\n",
      "El numero 46 NO es Primo\n",
      "El numero 47 es Primo\n",
      "El numero 48 NO es Primo\n",
      "El numero 49 NO es Primo\n",
      "El numero 50 NO es Primo\n",
      "El numero 51 NO es Primo\n",
      "El numero 52 NO es Primo\n",
      "El numero 53 es Primo\n",
      "El numero 54 NO es Primo\n",
      "El numero 55 NO es Primo\n",
      "El numero 56 NO es Primo\n",
      "El numero 57 NO es Primo\n",
      "El numero 58 NO es Primo\n",
      "El numero 59 es Primo\n",
      "El numero 60 NO es Primo\n",
      "El numero 61 es Primo\n",
      "El numero 62 NO es Primo\n",
      "El numero 63 NO es Primo\n",
      "El numero 64 NO es Primo\n",
      "El numero 65 NO es Primo\n",
      "El numero 66 NO es Primo\n",
      "El numero 67 es Primo\n",
      "El numero 68 NO es Primo\n",
      "El numero 69 NO es Primo\n",
      "El numero 70 NO es Primo\n",
      "El numero 71 es Primo\n",
      "El numero 72 NO es Primo\n",
      "El numero 73 es Primo\n",
      "El numero 74 NO es Primo\n",
      "El numero 75 NO es Primo\n",
      "El numero 76 NO es Primo\n",
      "El numero 77 NO es Primo\n",
      "El numero 78 NO es Primo\n",
      "El numero 79 es Primo\n",
      "El numero 80 NO es Primo\n",
      "El numero 81 NO es Primo\n",
      "El numero 82 NO es Primo\n",
      "El numero 83 es Primo\n",
      "El numero 84 NO es Primo\n",
      "El numero 85 NO es Primo\n",
      "El numero 86 NO es Primo\n",
      "El numero 87 NO es Primo\n",
      "El numero 88 NO es Primo\n",
      "El numero 89 es Primo\n",
      "El numero 90 NO es Primo\n",
      "El numero 91 NO es Primo\n",
      "El numero 92 NO es Primo\n",
      "El numero 93 NO es Primo\n",
      "El numero 94 NO es Primo\n",
      "El numero 95 NO es Primo\n",
      "El numero 96 NO es Primo\n",
      "El numero 97 es Primo\n",
      "El numero 98 NO es Primo\n",
      "El numero 99 NO es Primo\n",
      "El numero 100 NO es Primo\n"
     ]
    }
   ],
   "source": [
    "for i in range(1,101):\n",
    "    primo_no_primo(i)"
   ]
  }
 ],
 "metadata": {
  "kernelspec": {
   "display_name": "Python 3",
   "language": "python",
   "name": "python3"
  },
  "language_info": {
   "codemirror_mode": {
    "name": "ipython",
    "version": 3
   },
   "file_extension": ".py",
   "mimetype": "text/x-python",
   "name": "python",
   "nbconvert_exporter": "python",
   "pygments_lexer": "ipython3",
   "version": "3.7.1"
  }
 },
 "nbformat": 4,
 "nbformat_minor": 2
}
