{
 "cells": [
  {
   "cell_type": "markdown",
   "metadata": {},
   "source": [
    "### Ejercicio 3.1\n",
    "\n",
    "Escribir un programa que permita calcular:\n",
    "\n",
    "    a) La duración en segundos de un intervalo dado en horas, minutos y segundos.\n"
   ]
  },
  {
   "cell_type": "code",
   "execution_count": 14,
   "metadata": {},
   "outputs": [],
   "source": [
    "#Defino una primera funcion que realiza el calculo de horas, minutos y segundos a segundos\n",
    "\n",
    "def calculo(horas,minutos,segundos):\n",
    "    '''La funcion recibe como argumentos las horas, minutos y segundos.\n",
    "    Devuelve como resultado el tiempo en segundos'''\n",
    "    \n",
    "    h = horas * 3600\n",
    "    m = minutos * 60\n",
    "    s = segundos\n",
    "    return(h + m + s)\n",
    "\n",
    "#Defino otra funcion que es donde el usuario introduce los valores de horas, minutos y segundos\n",
    "\n",
    "def segundos(h,m,s):\n",
    "    '''Esta funcion toma como parametros los valores de horas, minutos y segundos y devuelve\n",
    "    la cantidad de segundos'''\n",
    "    seg = calculo(h,m,s) #Realiza la llamada a la funcion \"calculo\" que es quien realiza el calculo\n",
    "    return(seg)"
   ]
  },
  {
   "cell_type": "code",
   "execution_count": 13,
   "metadata": {},
   "outputs": [
    {
     "data": {
      "text/plain": [
       "14524"
      ]
     },
     "execution_count": 13,
     "metadata": {},
     "output_type": "execute_result"
    }
   ],
   "source": [
    "segundos(4,2,4)"
   ]
  },
  {
   "cell_type": "markdown",
   "metadata": {},
   "source": [
    "    b) La duración en horas, minutos y segundos de un intervalo dado en segundos."
   ]
  },
  {
   "cell_type": "code",
   "execution_count": 10,
   "metadata": {},
   "outputs": [],
   "source": [
    "def a_hms(segundos):\n",
    "    '''La funcion recibe como parametro el tiempo en segundos y devuelve la cantidad de horas, minutos\n",
    "    y segundos que corresponden para ese valor'''\n",
    "    h = segundos // 3600 #La cantidad de horas la calculo con division entera //\n",
    "    m = (segundos % 3600) // 60 #La cantidad de minutos lo calculo con el resto del calculo de la cantidad de horas\n",
    "    s = (segundos % 3600) % 60 #La cantidad de segundos lo calculo con el resto del calculo de la cantidad de minutos\n",
    "    return (str(h) + \" horas \" + str(m) + \" minutos y \" + str(s) + \" segundos\")"
   ]
  },
  {
   "cell_type": "code",
   "execution_count": 11,
   "metadata": {},
   "outputs": [
    {
     "data": {
      "text/plain": [
       "'0 horas 5 minutos y 45 segundos'"
      ]
     },
     "execution_count": 11,
     "metadata": {},
     "output_type": "execute_result"
    }
   ],
   "source": [
    "a_hms(345)"
   ]
  }
 ],
 "metadata": {
  "kernelspec": {
   "display_name": "Python 3",
   "language": "python",
   "name": "python3"
  },
  "language_info": {
   "codemirror_mode": {
    "name": "ipython",
    "version": 3
   },
   "file_extension": ".py",
   "mimetype": "text/x-python",
   "name": "python",
   "nbconvert_exporter": "python",
   "pygments_lexer": "ipython3",
   "version": "3.7.1"
  }
 },
 "nbformat": 4,
 "nbformat_minor": 2
}
