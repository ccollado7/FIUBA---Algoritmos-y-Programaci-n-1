{
 "cells": [
  {
   "cell_type": "markdown",
   "metadata": {},
   "source": [
    "## Ejercicio 3.5\n",
    "\n",
    "Problema 3.1: Un usuario nos plantea su problema: necesita que se facture el uso de un teléfono.\n",
    "Nos informará la tarifa por segundo, cuántas comunicaciones se realizaron, la duración de cada\n",
    "comunicación expresada en horas, minutos y segundos. Como resultado deberemos informar\n",
    "la duración en segundos de cada comunicación y su costo.\n",
    "\n",
    "En base al problema 3.1 corregir el programa para que:\n",
    "\n",
    "    a) Informe el costo en pesos y centavos, en lugar de un numero decimal"
   ]
  },
  {
   "cell_type": "code",
   "execution_count": 29,
   "metadata": {},
   "outputs": [],
   "source": [
    "#Defino una funcion principal que recibe datos de usuario e itera sobre la cantidad de llamadas realizadas para calcular el costo final de cada una\n",
    "#Esta funcion prinicipal realiza la llamada a la funcion auxiliar a_segundos\n",
    "\n",
    "def main():\n",
    "    \"\"\"El usuario ingresa la tarifa por segundo, cuánta\n",
    "        comunicaciones se realizaron, y la duracion de cada\n",
    "        comunicación expresada en horas, minutos y segundos. Como\n",
    "        resultado se informa la duración en segundos de cada\n",
    "        comunicación y su costo.\"\"\"\n",
    "    \n",
    "    p = float(input(\"¿Cuánto cuesta 1 segundo de comunicacion?: \"))\n",
    "    n = int(input(\"¿Cuántas comunicaciones hubo?: \"))\n",
    "    for x in range(n):\n",
    "        h = int(input(\"¿Cuántas horas?: \"))\n",
    "        m = int(input(\"¿Cuántos minutos?: \"))\n",
    "        s = int(input(\"¿Cuántos segundos?: \"))\n",
    "        duracion = a_segundos(h, m, s)\n",
    "        costo = duracion * p\n",
    "        costo_entero = int(costo)\n",
    "        costo_decimal =  (costo - costo_entero) * 10\n",
    "        print(\"Duracion:\", duracion , \"segundos. Costo: $\", costo_entero, \" pesos y \", int(round(costo_decimal,0)), \" centavos\")\n",
    "        \n",
    "#Creo una funcion que se encargar de calcular el tiempo total de la llamada en funcion de los parametros que se le ingresan\n",
    "\n",
    "def a_segundos(horas, minutos, segundos):\n",
    "    \"\"\"Transforma en segundos una medida de tiempo expresada en\n",
    "    horas, minutos y segundos\"\"\"\n",
    "    return 3600 * horas + 60 * minutos + segundos"
   ]
  },
  {
   "cell_type": "code",
   "execution_count": 31,
   "metadata": {},
   "outputs": [
    {
     "name": "stdout",
     "output_type": "stream",
     "text": [
      "¿Cuánto cuesta 1 segundo de comunicacion?: 2.4\n",
      "¿Cuántas comunicaciones hubo?: 1\n",
      "¿Cuántas horas?: 1\n",
      "¿Cuántos minutos?: 1\n",
      "¿Cuántos segundos?: 1\n",
      "Duracion: 3661 segundos. Costo: $ 8786  pesos y  4  centavos\n"
     ]
    }
   ],
   "source": [
    "main()"
   ]
  },
  {
   "cell_type": "markdown",
   "metadata": {},
   "source": [
    "    b) Informe cual fue el total facturado en la corrida"
   ]
  },
  {
   "cell_type": "code",
   "execution_count": 34,
   "metadata": {},
   "outputs": [],
   "source": [
    "#Por una cuestion de costumbre y comodidad personal invierto el orden de aparicion de las funciones\n",
    "\n",
    "def a_segundos(horas, minutos, segundos):\n",
    "    \"\"\"Transforma en segundos una medida de tiempo expresada en\n",
    "    horas, minutos y segundos\"\"\"\n",
    "    return 3600 * horas + 60 * minutos + segundos\n",
    "\n",
    "def main_1():\n",
    "    \"\"\"El usuario ingresa la tarifa por segundo, cuánta\n",
    "        comunicaciones se realizaron, y la duracion de cada\n",
    "        comunicación expresada en horas, minutos y segundos. Como\n",
    "        resultado se informa la duración en segundos de cada\n",
    "        comunicación y su costo.\"\"\"\n",
    "    \n",
    "    p = float(input(\"¿Cuánto cuesta 1 segundo de comunicacion?: \"))\n",
    "    n = int(input(\"¿Cuántas comunicaciones hubo?: \"))\n",
    "    lista_costo = [] #Creo una lista vacia\n",
    "    for x in range(n):\n",
    "        h = int(input(\"¿Cuántas horas?: \"))\n",
    "        m = int(input(\"¿Cuántos minutos?: \"))\n",
    "        s = int(input(\"¿Cuántos segundos?: \"))\n",
    "        duracion = a_segundos(h, m, s)\n",
    "        costo = duracion * p\n",
    "        lista_costo.append(costo) #Cada costo individual lo agrego a la lista\n",
    "        print()\n",
    "        print(\"Duracion:\", duracion, \"segundos. Costo: $\", costo)\n",
    "        \n",
    "                            \n",
    "        costo_total = 0 #Defino una variable que almacenara al valor del costo total. La inicializo en 0\n",
    "        for i in lista_costo: #Itero sobre la lista para ir sumando sus valores\n",
    "            costo_total = costo_total + i\n",
    "    print()\n",
    "    print(\"El costo total de las \",n,\" llamadas es igual a $ \", costo_total) #Imprimo el costo total\n"
   ]
  },
  {
   "cell_type": "code",
   "execution_count": 35,
   "metadata": {},
   "outputs": [
    {
     "name": "stdout",
     "output_type": "stream",
     "text": [
      "¿Cuánto cuesta 1 segundo de comunicacion?: 2.3\n",
      "¿Cuántas comunicaciones hubo?: 1\n",
      "¿Cuántas horas?: 1\n",
      "¿Cuántos minutos?: 1\n",
      "¿Cuántos segundos?: 1\n",
      "\n",
      "Duracion: 3661 segundos. Costo: $ 8420.3\n",
      "\n",
      "El costo total de las  1  llamadas es igual a $  8420.3\n"
     ]
    }
   ],
   "source": [
    "main_1()"
   ]
  }
 ],
 "metadata": {
  "kernelspec": {
   "display_name": "Python 3",
   "language": "python",
   "name": "python3"
  }
 },
 "nbformat": 4,
 "nbformat_minor": 2
}
