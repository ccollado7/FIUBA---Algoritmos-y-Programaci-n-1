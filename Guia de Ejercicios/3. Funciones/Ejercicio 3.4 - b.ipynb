{
 "cells": [
  {
   "cell_type": "markdown",
   "metadata": {},
   "source": [
    "### Ejercicio 3.3 b)\n",
    "\n",
    "Escribir una función que reciba las coordenadas de dos vectores en ℝ3 (x1,y1,z1,x2,\n",
    "y2,z2) y devuelva las coordenadas del vector diferencia (debe devolver 3 valores numéricos)."
   ]
  },
  {
   "cell_type": "code",
   "execution_count": 3,
   "metadata": {},
   "outputs": [],
   "source": [
    "def diferencia_vector(coord_x1,coord_y1,coord_z1,coord_x2,coord_y2,coord_z2):\n",
    "    '''La funcion recibe como parametros los componentes (x,y,z) de dos vectores.\n",
    "    Devuelve la diferencia vectorial entre ambos vectores'''\n",
    "    \n",
    "    delta_x = coord_x1 - coord_x2\n",
    "    delta_y = coord_y1 - coord_y2\n",
    "    delta_z = coord_z1 - coord_z2\n",
    "    \n",
    "    vector1 = (coord_x1,coord_y1,coord_z1)\n",
    "    vector2 = (coord_x2,coord_y2,coord_z2)\n",
    "    \n",
    "    delta_vector = (delta_x,delta_y,delta_z)\n",
    "    \n",
    "    return (\"La diferencia entre el vector v1: \" + str(vector1) + \" y el vector v2: \" + str(vector2) + \" es igual a: \" + str(delta_vector))"
   ]
  },
  {
   "cell_type": "code",
   "execution_count": 6,
   "metadata": {},
   "outputs": [
    {
     "data": {
      "text/plain": [
       "'La diferencia entre el vector v1: (3, 2, 1) y el vector v2: (1, 1, 1) es igual a: (2, 1, 0)'"
      ]
     },
     "execution_count": 6,
     "metadata": {},
     "output_type": "execute_result"
    }
   ],
   "source": [
    "diferencia_vector(3,2,1,1,1,1)"
   ]
  }
 ],
 "metadata": {
  "kernelspec": {
   "display_name": "Python 3",
   "language": "python",
   "name": "python3"
  },
  "language_info": {
   "codemirror_mode": {
    "name": "ipython",
    "version": 3
   },
   "file_extension": ".py",
   "mimetype": "text/x-python",
   "name": "python",
   "nbconvert_exporter": "python",
   "pygments_lexer": "ipython3",
   "version": "3.7.1"
  }
 },
 "nbformat": 4,
 "nbformat_minor": 2
}
