{
 "cells": [
  {
   "cell_type": "markdown",
   "metadata": {},
   "source": [
    "## Problema 4.1 \n",
    "\n",
    "Debemos leer un número y, si el número es positivo, debemos escribir en pantalla\n",
    "el cartel “Número positivo”."
   ]
  },
  {
   "cell_type": "code",
   "execution_count": 4,
   "metadata": {},
   "outputs": [
    {
     "name": "stdout",
     "output_type": "stream",
     "text": [
      "Por favor ingrese un numero: 3\n",
      "\n",
      "Numero positivo\n"
     ]
    }
   ],
   "source": [
    "numero = float(input(\"Por favor ingrese un numero: \"))\n",
    "if numero > 0:\n",
    "    print()\n",
    "    print(\"Numero positivo\")"
   ]
  }
 ],
 "metadata": {
  "kernelspec": {
   "display_name": "Python 3",
   "language": "python",
   "name": "python3"
  },
  "language_info": {
   "codemirror_mode": {
    "name": "ipython",
    "version": 3
   },
   "file_extension": ".py",
   "mimetype": "text/x-python",
   "name": "python",
   "nbconvert_exporter": "python",
   "pygments_lexer": "ipython3",
   "version": "3.7.1"
  }
 },
 "nbformat": 4,
 "nbformat_minor": 2
}
