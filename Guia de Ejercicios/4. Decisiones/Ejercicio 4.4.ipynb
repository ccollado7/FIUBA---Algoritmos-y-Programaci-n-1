{
 "cells": [
  {
   "cell_type": "markdown",
   "metadata": {},
   "source": [
    "### Ejercicio 4.4\n",
    "\n",
    "Escribir funciones que permitan encontrar:\n",
    "\n",
    "    a) El máximo o mínimo de un polinomio de segundo grado (dados los coeficientes a, b y c), indicando si es un máximo o un mínimo."
   ]
  },
  {
   "cell_type": "code",
   "execution_count": 10,
   "metadata": {},
   "outputs": [],
   "source": [
    "def analisis_funcion(a,b,c):\n",
    "    \n",
    "    x = (-b) / (2*a) #Valor de x donde se encuentra un maximo o minimo dela funcion\n",
    "    max_o_min = (a*(x**2)) + (b*x) + c #Valor de la funcion en el minimo o maximo\n",
    "    \n",
    "    \n",
    "    derivada_segunda_cero = 2*a #Calculo y evaluo la serivada segunda\n",
    "    if derivada_segunda_cero < 0:\n",
    "        tipo = \"Maximo\"\n",
    "    elif derivada_segunda_cero == 0:\n",
    "        tipo = \"No se puede concluir nada\"\n",
    "    else:\n",
    "        tipo = \"Minimo\"\n",
    "    \n",
    "    print(\"Se encontro un: \" + tipo)\n",
    "    print(\"El valor de x donde se encuentra el \" + tipo + \" es x = \" + str(x))\n",
    "    print(\"El valor de la funcion en el \"+ tipo + \" es: \" + str(max_o_min))"
   ]
  },
  {
   "cell_type": "code",
   "execution_count": 11,
   "metadata": {},
   "outputs": [
    {
     "name": "stdout",
     "output_type": "stream",
     "text": [
      "Se encontro un: Maximo\n",
      "El valor de x donde se encuentra el Maximo es x = 1.5\n",
      "El valor de la funcion en el Maximo es: 5.25\n"
     ]
    }
   ],
   "source": [
    "analisis_funcion(-1,3,3)"
   ]
  },
  {
   "cell_type": "code",
   "execution_count": null,
   "metadata": {},
   "outputs": [],
   "source": []
  }
 ],
 "metadata": {
  "kernelspec": {
   "display_name": "Python 3",
   "language": "python",
   "name": "python3"
  },
  "language_info": {
   "codemirror_mode": {
    "name": "ipython",
    "version": 3
   },
   "file_extension": ".py",
   "mimetype": "text/x-python",
   "name": "python",
   "nbconvert_exporter": "python",
   "pygments_lexer": "ipython3",
   "version": "3.7.1"
  }
 },
 "nbformat": 4,
 "nbformat_minor": 2
}
