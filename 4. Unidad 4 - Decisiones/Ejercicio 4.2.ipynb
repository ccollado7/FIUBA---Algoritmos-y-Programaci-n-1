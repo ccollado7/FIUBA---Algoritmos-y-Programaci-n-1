{
 "cells": [
  {
   "cell_type": "markdown",
   "metadata": {},
   "source": [
    "## Ejercicio 4.2\n",
    "\n",
    "Al nuevo programa que cuenta con llamadas cortas y largas, agregarle los adicionales,\n",
    "de modo que:\n",
    "\n",
    "    a) Los montos se escriban como pesos y centavos."
   ]
  },
  {
   "cell_type": "code",
   "execution_count": 3,
   "metadata": {},
   "outputs": [],
   "source": [
    "def main_mod():\n",
    "    '''El usuario ingresa:\n",
    "    *Duracion maxima de llamada corta\n",
    "    *Precio por segundo de llamada corta\n",
    "    *Precio por segundo de llamada larga\n",
    "    *Cantidad de comunicaciones y duracion en horas, minutos y segundos\n",
    "    \n",
    "    El programa devuelve:\n",
    "    *Tipo de llamada, duracion y precio de cada una'''\n",
    "\n",
    "    duracion_max = float(input(\"¿Cuánto es el limite de una llamada corta (segundos)?: \"))\n",
    "    costo_corta = float(input(\"¿Cuánto cuesta 1 segundo de comunicacion corta?: \"))\n",
    "    costo_larga = float(input(\"¿Cuánto cuesta 1 segundo de comunicacion larga?: \"))\n",
    "    print()\n",
    "    n = int(input(\"¿Cuántas comunicaciones hubo?: \"))\n",
    "    print()\n",
    "    \n",
    "    for x in range(1,n+1):\n",
    "        print(\"Llamada N°: \", x)\n",
    "        h = int(input(\"¿Cuántas horas?: \"))\n",
    "        m = int(input(\"¿Cuántos minutos?: \"))\n",
    "        s = int(input(\"¿Cuántos segundos?: \"))\n",
    "        duracion = a_segundos(h, m, s)\n",
    "        \n",
    "        if (duracion < duracion_max):\n",
    "            llamada = \"Corta\"\n",
    "            costo = duracion * costo_corta\n",
    "            costo_entero = int(costo)\n",
    "            costo_decimal =  (costo - costo_entero) * 10\n",
    "            print()\n",
    "            print(\"Es una llamada del tipo\", llamada , \"con duracion:\", duracion, \"segundos. Costo: $\", costo_entero, \" pesos y \", int(round(costo_decimal,0)), \" centavos\")\n",
    "            print()\n",
    "        else:\n",
    "            llamada = \"Larga\"\n",
    "            costo = duracion * costo_larga\n",
    "            costo_entero = int(costo)\n",
    "            costo_decimal =  (costo - costo_entero) * 10\n",
    "            print()\n",
    "            print(\"Es una llamada del tipo\", llamada , \"con duracion:\", duracion, \"segundos. Costo: $\", costo_entero, \" pesos y \", int(round(costo_decimal,0)), \" centavos\")\n",
    "            print()\n",
    "        \n",
    "def a_segundos(horas, minutos, segundos):\n",
    "    \"\"\"Transforma en segundos una medida de tiempo expresada en\n",
    "    20 horas, minutos y segundos\"\"\"\n",
    "    return 3600 * horas + 60 * minutos + segundos"
   ]
  },
  {
   "cell_type": "code",
   "execution_count": 5,
   "metadata": {},
   "outputs": [
    {
     "name": "stdout",
     "output_type": "stream",
     "text": [
      "¿Cuánto es el limite de una llamada corta (segundos)?: 45\n",
      "¿Cuánto cuesta 1 segundo de comunicacion corta?: 1.7\n",
      "¿Cuánto cuesta 1 segundo de comunicacion larga?: 2.5\n",
      "\n",
      "¿Cuántas comunicaciones hubo?: 2\n",
      "\n",
      "Llamada N°:  1\n",
      "¿Cuántas horas?: 0\n",
      "¿Cuántos minutos?: 0\n",
      "¿Cuántos segundos?: 27\n",
      "\n",
      "Es una llamada del tipo Corta con duracion: 27 segundos. Costo: $ 45  pesos y  9  centavos\n",
      "\n",
      "Llamada N°:  2\n",
      "¿Cuántas horas?: 1\n",
      "¿Cuántos minutos?: 2\n",
      "¿Cuántos segundos?: 4\n",
      "\n",
      "Es una llamada del tipo Larga con duracion: 3724 segundos. Costo: $ 9310  pesos y  0  centavos\n",
      "\n"
     ]
    }
   ],
   "source": [
    "main_mod()"
   ]
  },
  {
   "cell_type": "markdown",
   "metadata": {},
   "source": [
    "    b) Se informe además cuál fue el total facturado en la corrida."
   ]
  },
  {
   "cell_type": "code",
   "execution_count": 6,
   "metadata": {},
   "outputs": [],
   "source": [
    "def main_mod():\n",
    "    '''El usuario ingresa:\n",
    "    *Duracion maxima de llamada corta\n",
    "    *Precio por segundo de llamada corta\n",
    "    *Precio por segundo de llamada larga\n",
    "    *Cantidad de comunicaciones y duracion en horas, minutos y segundos\n",
    "    \n",
    "    El programa devuelve:\n",
    "    *Tipo de llamada, duracion y precio de cada una'''\n",
    "\n",
    "    duracion_max = float(input(\"¿Cuánto es el limite de una llamada corta (segundos)?: \"))\n",
    "    costo_corta = float(input(\"¿Cuánto cuesta 1 segundo de comunicacion corta?: \"))\n",
    "    costo_larga = float(input(\"¿Cuánto cuesta 1 segundo de comunicacion larga?: \"))\n",
    "    print()\n",
    "    n = int(input(\"¿Cuántas comunicaciones hubo?: \"))\n",
    "    print()\n",
    "    lista_costo = [] #Creo una lista vacia\n",
    "    for x in range(1,n+1):\n",
    "        print(\"Llamada N°: \", x)\n",
    "        h = int(input(\"¿Cuántas horas?: \"))\n",
    "        m = int(input(\"¿Cuántos minutos?: \"))\n",
    "        s = int(input(\"¿Cuántos segundos?: \"))\n",
    "        duracion = a_segundos(h, m, s)\n",
    "        \n",
    "        if (duracion < duracion_max):\n",
    "            llamada = \"Corta\"\n",
    "            costo = duracion * costo_corta\n",
    "            lista_costo.append(costo) #Cada costo individual lo agrego a la lista\n",
    "            costo_entero = int(costo)\n",
    "            costo_decimal =  (costo - costo_entero) * 10\n",
    "            print()\n",
    "            print(\"Es una llamada del tipo\", llamada , \"con duracion:\", duracion, \"segundos. Costo: $\", costo_entero, \" pesos y \", int(round(costo_decimal,0)), \" centavos\")\n",
    "            print()\n",
    "        else:\n",
    "            llamada = \"Larga\"\n",
    "            costo = duracion * costo_larga\n",
    "            lista_costo.append(costo) #Cada costo individual lo agrego a la lista\n",
    "            costo_entero = int(costo)\n",
    "            costo_decimal =  (costo - costo_entero) * 10\n",
    "            print()\n",
    "            print(\"Es una llamada del tipo\", llamada , \"con duracion:\", duracion, \"segundos. Costo: $\", costo_entero, \" pesos y \", int(round(costo_decimal,0)), \" centavos\")\n",
    "            print()\n",
    "        \n",
    "        costo_total = 0 #Defino una variable que almacenara al valor del costo total. La inicializo en 0\n",
    "        for i in lista_costo: #Itero sobre la lista para ir sumando sus valores\n",
    "            costo_total = costo_total + i\n",
    "        \n",
    "    print()\n",
    "    print(\"El costo total de las \",n,\" llamadas es igual a $ \", costo_total) #Imprimo el costo total\n",
    "    \n",
    "    \n",
    "def a_segundos(horas, minutos, segundos):\n",
    "    \"\"\"Transforma en segundos una medida de tiempo expresada en\n",
    "    20 horas, minutos y segundos\"\"\"\n",
    "    return 3600 * horas + 60 * minutos + segundos"
   ]
  },
  {
   "cell_type": "code",
   "execution_count": 7,
   "metadata": {},
   "outputs": [
    {
     "name": "stdout",
     "output_type": "stream",
     "text": [
      "¿Cuánto es el limite de una llamada corta (segundos)?: 45\n",
      "¿Cuánto cuesta 1 segundo de comunicacion corta?: 1.2\n",
      "¿Cuánto cuesta 1 segundo de comunicacion larga?: 2.3\n",
      "\n",
      "¿Cuántas comunicaciones hubo?: 2\n",
      "\n",
      "Llamada N°:  1\n",
      "¿Cuántas horas?: 0\n",
      "¿Cuántos minutos?: 0\n",
      "¿Cuántos segundos?: 32\n",
      "\n",
      "Es una llamada del tipo Corta con duracion: 32 segundos. Costo: $ 38  pesos y  4  centavos\n",
      "\n",
      "Llamada N°:  2\n",
      "¿Cuántas horas?: 1\n",
      "¿Cuántos minutos?: 2\n",
      "¿Cuántos segundos?: 3\n",
      "\n",
      "Es una llamada del tipo Larga con duracion: 3723 segundos. Costo: $ 8562  pesos y  9  centavos\n",
      "\n",
      "\n",
      "El costo total de las  2  llamadas es igual a $  8601.3\n"
     ]
    }
   ],
   "source": [
    "main_mod()"
   ]
  }
 ],
 "metadata": {
  "kernelspec": {
   "display_name": "Python 3",
   "language": "python",
   "name": "python3"
  },
  "language_info": {
   "codemirror_mode": {
    "name": "ipython",
    "version": 3
   },
   "file_extension": ".py",
   "mimetype": "text/x-python",
   "name": "python",
   "nbconvert_exporter": "python",
   "pygments_lexer": "ipython3",
   "version": "3.7.1"
  }
 },
 "nbformat": 4,
 "nbformat_minor": 2
}
