{
 "cells": [
  {
   "cell_type": "markdown",
   "metadata": {},
   "source": [
    "## Codigo 3.2\n",
    "\n",
    "Tarifador: Programa para calcular el costo de uso de un teléfono.\n"
   ]
  },
  {
   "cell_type": "code",
   "execution_count": 1,
   "metadata": {},
   "outputs": [],
   "source": [
    "def main():\n",
    "    \"\"\"El usuario ingresa la tarifa por segundo, cuántas\n",
    "    comunicaciones se realizaron, y la duracion de cada\n",
    "    comunicación expresada en horas, minutos y segundos. Como\n",
    "    resultado se informa la duración en segundos de cada\n",
    "    comunicación y su costo.\"\"\"\n",
    "    \n",
    "    p = float(input(\"¿Cuánto cuesta 1 segundo de comunicacion?: \"))\n",
    "    n = int(input(\"¿Cuántas comunicaciones hubo?: \"))\n",
    "    for x in range(n):\n",
    "        h = int(input(\"¿Cuántas horas?: \"))\n",
    "        m = int(input(\"¿Cuántos minutos?: \"))\n",
    "        s = int(input(\"¿Cuántos segundos?: \"))\n",
    "        duracion = a_segundos(h, m, s)\n",
    "        costo = duracion * p\n",
    "        print(\"Duracion:\", duracion, \"segundos. Costo: $\", costo)\n",
    "        \n",
    "def a_segundos(horas, minutos, segundos):\n",
    "    \"\"\"Transforma en segundos una medida de tiempo expresada en\n",
    "    20 horas, minutos y segundos\"\"\"\n",
    "    return 3600 * horas + 60 * minutos + segundos"
   ]
  }
 ],
 "metadata": {
  "kernelspec": {
   "display_name": "Python 3",
   "language": "python",
   "name": "python3"
  },
  "language_info": {
   "codemirror_mode": {
    "name": "ipython",
    "version": 3
   },
   "file_extension": ".py",
   "mimetype": "text/x-python",
   "name": "python",
   "nbconvert_exporter": "python",
   "pygments_lexer": "ipython3",
   "version": "3.7.1"
  }
 },
 "nbformat": 4,
 "nbformat_minor": 2
}
