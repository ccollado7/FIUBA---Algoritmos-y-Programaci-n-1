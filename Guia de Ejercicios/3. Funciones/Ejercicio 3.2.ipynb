{
 "cells": [
  {
   "cell_type": "markdown",
   "metadata": {},
   "source": [
    "### Ejercicio 3.2\n",
    "\n",
    "Usando las funciones del ejercicio anterior, escribir un programa que pida al\n",
    "usuario dos intervalos expresados en horas, minutos y segundos, sume sus duraciones, y muestre\n",
    "por pantalla la duración total en horas, minutos y segundos.\n"
   ]
  },
  {
   "cell_type": "code",
   "execution_count": 7,
   "metadata": {},
   "outputs": [],
   "source": [
    "#1° Funcion\n",
    "\n",
    "def calculo(horas,minutos,segundos):\n",
    "    '''La funcion recibe como argumentos las horas, minutos y segundos.\n",
    "    Devuelve como resultado el tiempo en segundos'''\n",
    "    \n",
    "    h = horas * 3600\n",
    "    m = minutos * 60\n",
    "    s = segundos\n",
    "    return(h + m + s)\n",
    "\n",
    "#2° Funcion\n",
    "\n",
    "def a_hms(segundos):\n",
    "    '''La funcion recibe como parametro el tiempo en segundos y devuelve la cantidad de horas, minutos\n",
    "    y segundos que corresponden para ese valor'''\n",
    "    \n",
    "    h = segundos // 3600 #La cantidad de horas la calculo con division entera //\n",
    "    m = (segundos % 3600) // 60 #La cantidad de minutos lo calculo con el resto del calculo de la cantidad de horas\n",
    "    s = (segundos % 3600) % 60 #La cantidad de segundos lo calculo con el resto del calculo de la cantidad de minutos\n",
    "    return (str(h) + \" horas \" + str(m) + \" minutos y \" + str(s) + \" segundos\")\n",
    "\n",
    "\n",
    "#3°Funcion\n",
    "\n",
    "def dos_segundos():\n",
    "    '''La funcion solicita al usuario que ingrese dos intervalos de tiempo y devuelve\n",
    "    el tiempo total en horas,minutos y segundos'''\n",
    "    \n",
    "    h1 = int(input(\"Primer Conjunto. Cuantas horas?: \"))\n",
    "    m1 = int(input(\"Primer Conjunto. Cuantos minutos?: \"))\n",
    "    s1 = int(input(\"Primer Conjunto. Cuantos segundos?: \"))\n",
    "    seg1 = calculo(h1,m1,s1)\n",
    "    \n",
    "    h2 = int(input(\"Segundo Conjunto. Cuantas horas?: \"))\n",
    "    m2 = int(input(\"Segundo Conjunto. Cuantos minutos?: \"))\n",
    "    s2 = int(input(\"Segundo Conjunto. Cuantos segundos?: \"))\n",
    "    seg2 = calculo(h2,m2,s2)\n",
    "    \n",
    "    seg_total = seg1 + seg2\n",
    "    \n",
    "    return(a_hms(seg_total))"
   ]
  },
  {
   "cell_type": "code",
   "execution_count": 8,
   "metadata": {},
   "outputs": [
    {
     "name": "stdout",
     "output_type": "stream",
     "text": [
      "Primer Conjunto. Cuantas horas?: 2\n",
      "Primer Conjunto. Cuantos minutos?: 3\n",
      "Primer Conjunto. Cuantos segundos?: 4\n",
      "Segundo Conjunto. Cuantas horas?: 5\n",
      "Segundo Conjunto. Cuantos minutos?: 6\n",
      "Segundo Conjunto. Cuantos segundos?: 7\n"
     ]
    },
    {
     "data": {
      "text/plain": [
       "'7 horas 9 minutos y 11 segundos'"
      ]
     },
     "execution_count": 8,
     "metadata": {},
     "output_type": "execute_result"
    }
   ],
   "source": [
    "dos_segundos()"
   ]
  }
 ],
 "metadata": {
  "kernelspec": {
   "display_name": "Python 3",
   "language": "python",
   "name": "python3"
  },
  "language_info": {
   "codemirror_mode": {
    "name": "ipython",
    "version": 3
   },
   "file_extension": ".py",
   "mimetype": "text/x-python",
   "name": "python",
   "nbconvert_exporter": "python",
   "pygments_lexer": "ipython3",
   "version": "3.7.1"
  }
 },
 "nbformat": 4,
 "nbformat_minor": 2
}
