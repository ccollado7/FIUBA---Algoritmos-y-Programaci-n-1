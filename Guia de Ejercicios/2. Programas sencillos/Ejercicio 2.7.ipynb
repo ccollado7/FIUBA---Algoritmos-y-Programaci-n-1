{
 "cells": [
  {
   "cell_type": "markdown",
   "metadata": {},
   "source": [
    "### Ejercicio 2.7\n",
    "\n",
    "Escribir un programa que imprima por pantalla todas las fichas de domino, de una por linea y sin repetir"
   ]
  },
  {
   "cell_type": "code",
   "execution_count": 5,
   "metadata": {},
   "outputs": [
    {
     "name": "stdout",
     "output_type": "stream",
     "text": [
      "(0, 0) / (0, 1) / (0, 2) / (0, 3) / (0, 4) / (0, 5) / (0, 6) / (1, 0) / (1, 1) / (1, 2) / (1, 3) / (1, 4) / (1, 5) / (1, 6) / (2, 0) / (2, 1) / (2, 2) / (2, 3) / (2, 4) / (2, 5) / (2, 6) / (3, 0) / (3, 1) / (3, 2) / (3, 3) / (3, 4) / (3, 5) / (3, 6) / (4, 0) / (4, 1) / (4, 2) / (4, 3) / (4, 4) / (4, 5) / (4, 6) / (5, 0) / (5, 1) / (5, 2) / (5, 3) / (5, 4) / (5, 5) / (5, 6) / (6, 0) / (6, 1) / (6, 2) / (6, 3) / (6, 4) / (6, 5) / (6, 6) / "
     ]
    }
   ],
   "source": [
    "'''Se generan todas las fichas del domino sin repetir'''\n",
    "\n",
    "inferior = range(0,7)\n",
    "posterior = range(0,7)\n",
    "\n",
    "for i in inferior:\n",
    "    for j in posterior:\n",
    "        print((i,j), end=\" / \")"
   ]
  }
 ],
 "metadata": {
  "kernelspec": {
   "display_name": "Python 3",
   "language": "python",
   "name": "python3"
  },
  "language_info": {
   "codemirror_mode": {
    "name": "ipython",
    "version": 3
   },
   "file_extension": ".py",
   "mimetype": "text/x-python",
   "name": "python",
   "nbconvert_exporter": "python",
   "pygments_lexer": "ipython3",
   "version": "3.7.1"
  }
 },
 "nbformat": 4,
 "nbformat_minor": 2
}
