{
 "cells": [
  {
   "cell_type": "markdown",
   "metadata": {},
   "source": [
    "### Ejercicio 1.5\n",
    "\n",
    "Implementar algoritmos que resuelvan los siguientes problemas:"
   ]
  },
  {
   "cell_type": "markdown",
   "metadata": {},
   "source": [
    "    a) Dados dos numeros, imprimir la suma,resta,division y multiplicacion de ambos:"
   ]
  },
  {
   "cell_type": "code",
   "execution_count": 4,
   "metadata": {},
   "outputs": [],
   "source": [
    "def operaciones():\n",
    "    '''La funcion solicita se ingresen dos numeros y devuelve las operaciones suma / resta / division / multiplicacion de esos numeros'''\n",
    "    n1 = float(input(\"Por favor ingrese el 1° numero: \"))\n",
    "    n2 = float(input(\"Por favor ingrese el 2° numero: \"))\n",
    "    suma = n1 + n2\n",
    "    resta = n1 - n2\n",
    "    multiplicacion = n1 * n2\n",
    "    division = n1/n2\n",
    "    print(\"La suma de los numeros \" + str(n1) + \" y \" + str(n2) + \" es igual a: \" + str(suma))\n",
    "    print(\"La rest de los numeros \" + str(n1) + \" y \" + str(n2) + \" es igual a: \" + str(resta))\n",
    "    print(\"La multiplicacion de los numeros \" + str(n1) + \" y \" + str(n2) + \" es igual a: \" + str(multiplicacion))\n",
    "    print(\"La division de los numeros \" + str(n1) + \" y \" + str(n2) + \" es igual a: \" + str(division))"
   ]
  },
  {
   "cell_type": "code",
   "execution_count": 7,
   "metadata": {},
   "outputs": [
    {
     "name": "stdout",
     "output_type": "stream",
     "text": [
      "Por favor ingrese el 1° numero: 2\n",
      "Por favor ingrese el 2° numero: 2\n",
      "La suma de los numeros 2.0 y 2.0 es igual a: 4.0\n",
      "La rest de los numeros 2.0 y 2.0 es igual a: 0.0\n",
      "La multiplicacion de los numeros 2.0 y 2.0 es igual a: 4.0\n",
      "La division de los numeros 2.0 y 2.0 es igual a: 1.0\n"
     ]
    }
   ],
   "source": [
    "operaciones()"
   ]
  },
  {
   "cell_type": "markdown",
   "metadata": {},
   "source": [
    "    b) Dado un numero n, imprimir su tabla de multiplicar"
   ]
  },
  {
   "cell_type": "code",
   "execution_count": 10,
   "metadata": {},
   "outputs": [],
   "source": [
    "def tabla():\n",
    "    '''Esta funcion recibe un entero n y devuelve su tabla de multiplicar'''\n",
    "    n = int(input(\"Por favor ingrese el numero que desea obtener la tabla de multiplicar\"))\n",
    "    for i in range (11):\n",
    "        n_tabla = n * i\n",
    "        print(str(n) + \" por \" + str(i) + \" es igual a: \" + str(n_tabla))"
   ]
  },
  {
   "cell_type": "code",
   "execution_count": 11,
   "metadata": {},
   "outputs": [
    {
     "name": "stdout",
     "output_type": "stream",
     "text": [
      "Por favor ingrese el numero que desea obtener la tabla de multiplicar4\n",
      "4 por 0 es igual a: 0\n",
      "4 por 1 es igual a: 4\n",
      "4 por 2 es igual a: 8\n",
      "4 por 3 es igual a: 12\n",
      "4 por 4 es igual a: 16\n",
      "4 por 5 es igual a: 20\n",
      "4 por 6 es igual a: 24\n",
      "4 por 7 es igual a: 28\n",
      "4 por 8 es igual a: 32\n",
      "4 por 9 es igual a: 36\n",
      "4 por 10 es igual a: 40\n"
     ]
    }
   ],
   "source": [
    "tabla()"
   ]
  }
 ],
 "metadata": {
  "kernelspec": {
   "display_name": "Python 3",
   "language": "python",
   "name": "python3"
  },
  "language_info": {
   "codemirror_mode": {
    "name": "ipython",
    "version": 3
   },
   "file_extension": ".py",
   "mimetype": "text/x-python",
   "name": "python",
   "nbconvert_exporter": "python",
   "pygments_lexer": "ipython3",
   "version": "3.7.1"
  }
 },
 "nbformat": 4,
 "nbformat_minor": 2
}
