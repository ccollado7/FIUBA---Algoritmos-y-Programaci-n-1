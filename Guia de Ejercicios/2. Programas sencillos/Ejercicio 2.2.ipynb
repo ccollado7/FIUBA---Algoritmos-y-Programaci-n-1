{
 "cells": [
  {
   "cell_type": "markdown",
   "metadata": {},
   "source": [
    "### Ejercicio 2.2\n",
    "\n",
    "Escriba una funcion que convierta un valor dado en grados Fahrenheit a grados Celsius"
   ]
  },
  {
   "cell_type": "code",
   "execution_count": 4,
   "metadata": {},
   "outputs": [],
   "source": [
    "def convertir_temperatura():\n",
    "    '''Se recibe como parametro el valor numerico de temperatura en grados Fahrenheit y se devuelve el valor en grados Celsius'''\n",
    "    \n",
    "    f = float(input(\"Por favor ingrese el valor de temperatura en grados Fahrenheit que desea convertir: \"))\n",
    "    c = (f - 32) * (5/9)\n",
    "    return(\"El valor de temperatura \" + str(f) +\"°F es igual a \" + str(round(c,2)) + \"°C\")"
   ]
  },
  {
   "cell_type": "code",
   "execution_count": 5,
   "metadata": {},
   "outputs": [
    {
     "name": "stdout",
     "output_type": "stream",
     "text": [
      "Por favor ingrese el valor de temperatura en grados Fahrenheit que desea convertir: 70\n"
     ]
    },
    {
     "data": {
      "text/plain": [
       "'El valor de temperatura 70.0°F es igual a 21.11°C'"
      ]
     },
     "execution_count": 5,
     "metadata": {},
     "output_type": "execute_result"
    }
   ],
   "source": [
    "convertir_temperatura()"
   ]
  }
 ],
 "metadata": {
  "kernelspec": {
   "display_name": "Python 3",
   "language": "python",
   "name": "python3"
  },
  "language_info": {
   "codemirror_mode": {
    "name": "ipython",
    "version": 3
   },
   "file_extension": ".py",
   "mimetype": "text/x-python",
   "name": "python",
   "nbconvert_exporter": "python",
   "pygments_lexer": "ipython3",
   "version": "3.7.1"
  }
 },
 "nbformat": 4,
 "nbformat_minor": 2
}
