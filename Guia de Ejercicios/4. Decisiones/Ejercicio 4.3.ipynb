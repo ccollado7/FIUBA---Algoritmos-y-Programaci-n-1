{
 "cells": [
  {
   "cell_type": "markdown",
   "metadata": {},
   "source": [
    "### Ejercicio 4.3\n",
    "\n",
    "Escribir una función que reciba por parámetro una dimensión 𝑛, e imprima la\n",
    "matriz identidad correspondiente a esa dimensión."
   ]
  },
  {
   "cell_type": "code",
   "execution_count": 1,
   "metadata": {},
   "outputs": [],
   "source": [
    "def matriz_identidad(n):\n",
    "    '''La funcion recibe como parametro un numero entero n.\n",
    "    Devuelve la matriz identidad de dimension n'''\n",
    "\n",
    "    for i in range(1,n+1):\n",
    "        for j in range(1,n+1):\n",
    "            if i == j:\n",
    "                print(1)\n",
    "            else:\n",
    "                print(0)\n",
    "    "
   ]
  },
  {
   "cell_type": "code",
   "execution_count": 2,
   "metadata": {},
   "outputs": [
    {
     "name": "stdout",
     "output_type": "stream",
     "text": [
      "1\n",
      "0\n",
      "0\n",
      "1\n"
     ]
    }
   ],
   "source": [
    "matriz_identidad(2)"
   ]
  }
 ],
 "metadata": {
  "kernelspec": {
   "display_name": "Python 3",
   "language": "python",
   "name": "python3"
  },
  "language_info": {
   "codemirror_mode": {
    "name": "ipython",
    "version": 3
   },
   "file_extension": ".py",
   "mimetype": "text/x-python",
   "name": "python",
   "nbconvert_exporter": "python",
   "pygments_lexer": "ipython3",
   "version": "3.7.1"
  }
 },
 "nbformat": 4,
 "nbformat_minor": 2
}
