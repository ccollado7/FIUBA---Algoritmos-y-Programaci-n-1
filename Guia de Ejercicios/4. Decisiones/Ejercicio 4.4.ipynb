{
 "cells": [
  {
   "cell_type": "markdown",
   "metadata": {},
   "source": [
    "### Ejercicio 4.4\n",
    "\n",
    "Escribir funciones que permitan encontrar:\n",
    "\n",
    "    a) El máximo o mínimo de un polinomio de segundo grado (dados los coeficientes a, b y c), indicando si es un máximo o un mínimo."
   ]
  },
  {
   "cell_type": "code",
   "execution_count": 1,
   "metadata": {},
   "outputs": [],
   "source": [
    "def analisis_funcion(a,b,c):\n",
    "    '''La funcion como parametros los valores de las constantes (a,b,c) una funcion cuadratica.\n",
    "    Devuelve si corresponde a un minimo o maximo, el valor de x donde se produce y el valor de la funcion en ese valor'''\n",
    "    x = (-b) / (2*a) #Valor de x donde se encuentra un maximo o minimo dela funcion\n",
    "    max_o_min = (a*(x**2)) + (b*x) + c #Valor de la funcion en el minimo o maximo\n",
    "    \n",
    "    \n",
    "    derivada_segunda_cero = 2*a #Calculo y evaluo la serivada segunda\n",
    "    if derivada_segunda_cero < 0:\n",
    "        tipo = \"Maximo\"\n",
    "    elif derivada_segunda_cero == 0:\n",
    "        tipo = \"No se puede concluir nada\"\n",
    "    else:\n",
    "        tipo = \"Minimo\"\n",
    "    \n",
    "    print(\"Se encontro un: \" + tipo)\n",
    "    print(\"El valor de x donde se encuentra el \" + tipo + \" es x = \" + str(x))\n",
    "    print(\"El valor de la funcion en el \"+ tipo + \" es: \" + str(max_o_min))"
   ]
  },
  {
   "cell_type": "code",
   "execution_count": 2,
   "metadata": {},
   "outputs": [
    {
     "name": "stdout",
     "output_type": "stream",
     "text": [
      "Se encontro un: Maximo\n",
      "El valor de x donde se encuentra el Maximo es x = 1.5\n",
      "El valor de la funcion en el Maximo es: 5.25\n"
     ]
    }
   ],
   "source": [
    "analisis_funcion(-1,3,3)"
   ]
  },
  {
   "cell_type": "markdown",
   "metadata": {},
   "source": [
    "    b) Las raíces (reales o complejas) de un polinomio de segundo grado. Nota: validar que las operaciones puedan efectuarse antes de realizarlas (no dividir por cero, ni calcular la raíz de un número negativo)."
   ]
  },
  {
   "cell_type": "code",
   "execution_count": 50,
   "metadata": {},
   "outputs": [],
   "source": [
    "def cuadratica(a,b,c):\n",
    "    '''La funcion como parametros los valores de las constantes (a,b,c) una funcion cuadratica.\n",
    "    Devuelve las raices de la funcion cuadratica'''\n",
    "    \n",
    "    argumento_raiz = (b**2)- (4*a*c)\n",
    "    raiz = (argumento_raiz)**(1/2)\n",
    "\n",
    "    if a == 0:\n",
    "        print(\"El valor del parametro a es igual a \" + str(a) + \". No se puede calcula la raiz cuadrada ya que se divide por cero\")\n",
    "    \n",
    "    elif argumento_raiz >= 0:\n",
    "        x1 = ((-b) + raiz) / (2*a)\n",
    "        x2 = ((-b) - raiz) / (2*a)\n",
    "        \n",
    "        print(\"El valor de x1 es igual a: \" + str(round(x1,2)))\n",
    "        print()\n",
    "        print(\"El valor de x2 es igual a: \" + str(round(x2,2)))\n",
    "        \n",
    "    else:\n",
    "        raiz_positiva = (argumento_raiz * -1) ** (1/2)\n",
    "        x_real = (-b/(2*a))\n",
    "        x_imaginario = (raiz_positiva/(2*a))\n",
    "        \n",
    "        print(\"El valor de x1 es igual a: {} + {} {}\".format(round(x_real,2), round(x_imaginario,2),\"i\"))\n",
    "        print(\"El valor de x1 es igual a: {} - {} {}\".format(round(x_real,2), round(x_imaginario,2),\"i\"))"
   ]
  },
  {
   "cell_type": "code",
   "execution_count": 51,
   "metadata": {},
   "outputs": [
    {
     "name": "stdout",
     "output_type": "stream",
     "text": [
      "El valor de x1 es igual a: -1.0 + 1.0 i\n",
      "El valor de x1 es igual a: -1.0 - 1.0 i\n"
     ]
    }
   ],
   "source": [
    "cuadratica(1,2,2)"
   ]
  },
  {
   "cell_type": "markdown",
   "metadata": {},
   "source": [
    "    c) La intersección de dos rectas (dadas las pendientes y ordenada al origen de cada recta).\n",
    "    Nota: validar que no sean dos rectas con la misma pendiente, antes de efectuar la operación."
   ]
  },
  {
   "cell_type": "code",
   "execution_count": 64,
   "metadata": {},
   "outputs": [],
   "source": [
    "def interseccion(p1,b1,p2,b2):\n",
    "    '''La funcion recibe los parametros pendiente y ordenada al origen de dos rectas (p1,b1) y (p2,b2).\n",
    "    Calcula el punto de interseccion de las rectas que no son paralelas'''\n",
    "    if p1 == p2:\n",
    "        print(\"Las rectas son paralelas, no se puede calcular su punto de interseccion\")\n",
    "    else:\n",
    "        x_interseccion = (b2 - b1) / (p1 - p2)\n",
    "        print(\"Las rectas se intersectan en el punto x = {}\".format(x_interseccion))"
   ]
  },
  {
   "cell_type": "code",
   "execution_count": 66,
   "metadata": {},
   "outputs": [
    {
     "name": "stdout",
     "output_type": "stream",
     "text": [
      "Las rectas se intersectan en el punto x = 0.25\n"
     ]
    }
   ],
   "source": [
    "interseccion(1,2,-3,3)"
   ]
  }
 ],
 "metadata": {
  "kernelspec": {
   "display_name": "Python 3",
   "language": "python",
   "name": "python3"
  },
  "language_info": {
   "codemirror_mode": {
    "name": "ipython",
    "version": 3
   },
   "file_extension": ".py",
   "mimetype": "text/x-python",
   "name": "python",
   "nbconvert_exporter": "python",
   "pygments_lexer": "ipython3",
   "version": "3.7.1"
  }
 },
 "nbformat": 4,
 "nbformat_minor": 2
}
