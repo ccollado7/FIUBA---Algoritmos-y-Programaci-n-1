{
 "cells": [
  {
   "cell_type": "markdown",
   "metadata": {},
   "source": [
    "### Ejercicio 3.3 d)\n",
    "\n",
    "Utilizando las funciones anteriores, escribir una función que reciba las coordenadas de\n",
    "3 puntos en ℝ3 y devuelva el área del triángulo que conforman."
   ]
  },
  {
   "cell_type": "code",
   "execution_count": 18,
   "metadata": {},
   "outputs": [],
   "source": [
    "#1° Funcion - Diferencia entre vectores\n",
    "\n",
    "def diferencia_vector(coord_x1,coord_y1,coord_z1,coord_x2,coord_y2,coord_z2):\n",
    "    '''La funcion recibe como parametros los componentes (x,y,z) de dos vectores.\n",
    "    Devuelve la diferencia vectorial entre ambos vectores'''\n",
    "    \n",
    "    delta_x = coord_x1 - coord_x2\n",
    "    delta_y = coord_y1 - coord_y2\n",
    "    delta_z = coord_z1 - coord_z2\n",
    "    \n",
    "    delta_vector = (delta_x,delta_y,delta_z)\n",
    "    \n",
    "    return (delta_vector)\n",
    "\n",
    "\n",
    "\n",
    "#2° Funcion - Producto vectorial entre vectores\n",
    "\n",
    "def producto_vectorial(coord_x1,coord_y1,coord_z1,coord_x2,coord_y2,coord_z2):\n",
    "    '''La funcion recibe como parametros los componentes (x,y,z) de dos vectores.\n",
    "    Devuelve el producto vectorial entre los vectores'''\n",
    "    \n",
    "    p1 = (coord_y1 * coord_z2) - (coord_z1 * coord_y2)\n",
    "    p2 = (coord_z1 * coord_x2) - (coord_x1 * coord_z2)\n",
    "    p3 = (coord_x1 * coord_y2) - (coord_y1 * coord_x2)\n",
    "\n",
    "    producto_vector = (p1,p2,p3)\n",
    "    \n",
    "    return (producto_vector)\n",
    "\n",
    "\n",
    "\n",
    "#3° Funcion - Normal de un Vector\n",
    "\n",
    "def norma_vector(coord_x,coord_y,coord_z):\n",
    "    '''La funcion recibe como parametros los valores (x,y,z) de un vector y devuelve la norma del mismo'''\n",
    "    x = coord_x**2\n",
    "    y = coord_y**2\n",
    "    z = coord_z**2\n",
    "    \n",
    "    norma = (x + y + z)**(1/2)\n",
    "    \n",
    "    return (norma)\n",
    "\n",
    "\n",
    "def area_triangulo(x1,x2,x3,y1,y2,y3,z1,z2,z3):\n",
    "    '''La funcion recibe las coordenadas (xi,yi,zi) de tres puntos en R3.\n",
    "    Devuelve el area del triangulo que se forma entre esos puntos'''\n",
    "    \n",
    "    dif1x, dif1y, dif1z = diferencia_vector(y1,y2,y3,x1,x2,x3)\n",
    "    \n",
    "    dif2x, dif2y, dif2z = diferencia_vector(z1,z2,z3,x1,x2,x3)\n",
    "    \n",
    "    prod1, prod2, prod3 = producto_vectorial(dif1x, dif1y, dif1z,dif2x, dif2y, dif2z)\n",
    "    \n",
    "    norma = norma_vector(prod1, prod2, prod3)\n",
    "    \n",
    "    area = norma / 2\n",
    "    \n",
    "    return(\"El area del triangulo es: \" + str(round(area,3)))"
   ]
  },
  {
   "cell_type": "code",
   "execution_count": 19,
   "metadata": {},
   "outputs": [
    {
     "data": {
      "text/plain": [
       "'El area del triangulo es: 19.455'"
      ]
     },
     "execution_count": 19,
     "metadata": {},
     "output_type": "execute_result"
    }
   ],
   "source": [
    "area_triangulo(5,8,-1,-2,3,4,-3,3,0)"
   ]
  }
 ],
 "metadata": {
  "kernelspec": {
   "display_name": "Python 3",
   "language": "python",
   "name": "python3"
  },
  "language_info": {
   "codemirror_mode": {
    "name": "ipython",
    "version": 3
   },
   "file_extension": ".py",
   "mimetype": "text/x-python",
   "name": "python",
   "nbconvert_exporter": "python",
   "pygments_lexer": "ipython3",
   "version": "3.7.1"
  }
 },
 "nbformat": 4,
 "nbformat_minor": 2
}
