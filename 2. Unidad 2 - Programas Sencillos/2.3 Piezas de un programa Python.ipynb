{
 "cells": [
  {
   "cell_type": "markdown",
   "metadata": {},
   "source": [
    "## 2.3 Piezas de un programa Python\n"
   ]
  },
  {
   "cell_type": "markdown",
   "metadata": {},
   "source": [
    "### 2.3.1 Nombres "
   ]
  },
  {
   "cell_type": "markdown",
   "metadata": {},
   "source": [
    "**Palabras Reservadas en Python**\n",
    "\n",
    "`False`\n",
    "`None`\n",
    "`True`\n",
    "`and`\n",
    "`as`\n",
    "`assert`\n",
    "`break`\n",
    "`class`\n",
    "`continue`\n",
    "`def`\n",
    "`del`\n",
    "`elif`\n",
    "`else`\n",
    "`except`\n",
    "`finally`\n",
    "`for`\n",
    "`from`\n",
    "`global`\n",
    "`if`\n",
    "`import`\n",
    "`in`\n",
    "`is`\n",
    "`lambda`\n",
    "`nonlocal`\n",
    "`not`\n",
    "`or`\n",
    "`pass`\n",
    "`raise`\n",
    "`return`\n",
    "`try`\n",
    "`while`\n",
    "`with`\n",
    "`yield`"
   ]
  },
  {
   "cell_type": "markdown",
   "metadata": {},
   "source": [
    "### 2.3.2 Expresiones"
   ]
  },
  {
   "cell_type": "code",
   "execution_count": 7,
   "metadata": {},
   "outputs": [
    {
     "data": {
      "text/plain": [
       "12345"
      ]
     },
     "execution_count": 7,
     "metadata": {},
     "output_type": "execute_result"
    }
   ],
   "source": [
    "12345 #Literal"
   ]
  },
  {
   "cell_type": "code",
   "execution_count": 8,
   "metadata": {},
   "outputs": [
    {
     "data": {
      "text/plain": [
       "5"
      ]
     },
     "execution_count": 8,
     "metadata": {},
     "output_type": "execute_result"
    }
   ],
   "source": [
    "x = 5 #Variable\n",
    "x"
   ]
  },
  {
   "cell_type": "markdown",
   "metadata": {},
   "source": [
    "Se utilizan operaciones para combinar expresiones y construir expresiones mas complejas:"
   ]
  },
  {
   "cell_type": "code",
   "execution_count": 10,
   "metadata": {},
   "outputs": [
    {
     "data": {
      "text/plain": [
       "6"
      ]
     },
     "execution_count": 10,
     "metadata": {},
     "output_type": "execute_result"
    }
   ],
   "source": [
    "x + 1 #Sumo una constante a la variable x"
   ]
  },
  {
   "cell_type": "code",
   "execution_count": 11,
   "metadata": {},
   "outputs": [
    {
     "data": {
      "text/plain": [
       "125"
      ]
     },
     "execution_count": 11,
     "metadata": {},
     "output_type": "execute_result"
    }
   ],
   "source": [
    "x**3 #La potenciacion se representa de esta forma"
   ]
  },
  {
   "cell_type": "code",
   "execution_count": 13,
   "metadata": {},
   "outputs": [
    {
     "data": {
      "text/plain": [
       "-1.5"
      ]
     },
     "execution_count": 13,
     "metadata": {},
     "output_type": "execute_result"
    }
   ],
   "source": [
    "a = 1\n",
    "b = 1\n",
    "c = 1\n",
    "((b*b) - (4*a*c)) / (2*a) #Se pueden usar parentesis para indicar un orden de evaluacion"
   ]
  },
  {
   "cell_type": "markdown",
   "metadata": {},
   "source": [
    "Prestar atencion con lo que sucede con los cocientes:"
   ]
  },
  {
   "cell_type": "code",
   "execution_count": 15,
   "metadata": {},
   "outputs": [
    {
     "data": {
      "text/plain": [
       "1.5"
      ]
     },
     "execution_count": 15,
     "metadata": {},
     "output_type": "execute_result"
    }
   ],
   "source": [
    "6 / 4 #Division en punto flotante"
   ]
  },
  {
   "cell_type": "code",
   "execution_count": 16,
   "metadata": {},
   "outputs": [
    {
     "data": {
      "text/plain": [
       "1"
      ]
     },
     "execution_count": 16,
     "metadata": {},
     "output_type": "execute_result"
    }
   ],
   "source": [
    "6 // 4 #Division entera"
   ]
  },
  {
   "cell_type": "code",
   "execution_count": 17,
   "metadata": {},
   "outputs": [
    {
     "data": {
      "text/plain": [
       "2"
      ]
     },
     "execution_count": 17,
     "metadata": {},
     "output_type": "execute_result"
    }
   ],
   "source": [
    "6 % 4 #Resto de la division entera"
   ]
  },
  {
   "cell_type": "markdown",
   "metadata": {},
   "source": [
    "## Ejercicio 2.1 \n",
    "\n",
    "Aplicando las reglas matematicas de asociatividad, decidir cuales de las siguientes expresiones son iguales entre si:"
   ]
  },
  {
   "cell_type": "code",
   "execution_count": 18,
   "metadata": {},
   "outputs": [],
   "source": [
    "a = 2\n",
    "b = 3\n",
    "c = 4"
   ]
  },
  {
   "cell_type": "code",
   "execution_count": 19,
   "metadata": {},
   "outputs": [],
   "source": [
    "x1 = ((b * b)- (4 * a * c)) / (2 * a)"
   ]
  },
  {
   "cell_type": "code",
   "execution_count": 20,
   "metadata": {},
   "outputs": [],
   "source": [
    "x2 = ((b * b)- (4 * a * c)) // (2 * a)"
   ]
  },
  {
   "cell_type": "code",
   "execution_count": 23,
   "metadata": {},
   "outputs": [],
   "source": [
    "x3 = (b * b - 4 * a * c) / (2 * a)"
   ]
  },
  {
   "cell_type": "code",
   "execution_count": 24,
   "metadata": {},
   "outputs": [],
   "source": [
    "x4 = b * b- 4 * a * c / 2 * a"
   ]
  },
  {
   "cell_type": "code",
   "execution_count": 25,
   "metadata": {},
   "outputs": [],
   "source": [
    "x5 = (b * b)- (4 * a * c / 2 * a)"
   ]
  },
  {
   "cell_type": "code",
   "execution_count": 26,
   "metadata": {},
   "outputs": [],
   "source": [
    "x6 = 1 / 2 * b"
   ]
  },
  {
   "cell_type": "code",
   "execution_count": 27,
   "metadata": {},
   "outputs": [],
   "source": [
    "x7 = b / 2"
   ]
  },
  {
   "cell_type": "code",
   "execution_count": 30,
   "metadata": {},
   "outputs": [
    {
     "data": {
      "text/plain": [
       "[-5.75, -6, -5.75, -23.0, -23.0, 1.5, 1.5]"
      ]
     },
     "execution_count": 30,
     "metadata": {},
     "output_type": "execute_result"
    }
   ],
   "source": [
    "lista = [x1,x2,x3,x4,x5,x6,x7]"
   ]
  },
  {
   "cell_type": "code",
   "execution_count": 33,
   "metadata": {},
   "outputs": [
    {
     "data": {
      "text/plain": [
       "True"
      ]
     },
     "execution_count": 33,
     "metadata": {},
     "output_type": "execute_result"
    }
   ],
   "source": [
    "x1 == x3"
   ]
  },
  {
   "cell_type": "code",
   "execution_count": 34,
   "metadata": {},
   "outputs": [
    {
     "data": {
      "text/plain": [
       "True"
      ]
     },
     "execution_count": 34,
     "metadata": {},
     "output_type": "execute_result"
    }
   ],
   "source": [
    "x4 == x5"
   ]
  },
  {
   "cell_type": "code",
   "execution_count": 35,
   "metadata": {},
   "outputs": [
    {
     "data": {
      "text/plain": [
       "True"
      ]
     },
     "execution_count": 35,
     "metadata": {},
     "output_type": "execute_result"
    }
   ],
   "source": [
    "x6 == x7"
   ]
  },
  {
   "cell_type": "markdown",
   "metadata": {},
   "source": [
    "## Ejercicio N° 2.2\n",
    "\n",
    "Escribir un programa que le asigne a a,b,c los valores 10,100 y 1000 respectivamente y evalue las expresiones del ejercicio anterior"
   ]
  },
  {
   "cell_type": "code",
   "execution_count": 39,
   "metadata": {},
   "outputs": [],
   "source": [
    "a = 10\n",
    "b = 100\n",
    "c = 1000\n",
    "def calculos1():\n",
    "    x1 = ((b * b)- (4 * a * c)) / (2 * a)\n",
    "    x2 = ((b * b)- (4 * a * c)) // (2 * a)\n",
    "    x3 = (b * b - 4 * a * c) / (2 * a)\n",
    "    x4 = b * b- 4 * a * c / 2 * a\n",
    "    x5 = (b * b)- (4 * a * c / 2 * a)\n",
    "    x6 = 1 / 2 * b\n",
    "    x7 = b / 2\n",
    "    print(\"El valor de x1 es: \", x1)\n",
    "    print(\"El valor de x2 es: \", x2)\n",
    "    print(\"El valor de x3 es: \", x3)\n",
    "    print(\"El valor de x4 es: \", x4)\n",
    "    print(\"El valor de x5 es: \", x5)\n",
    "    print(\"El valor de x6 es: \", x6)\n",
    "    print(\"El valor de x7 es: \", x7)"
   ]
  },
  {
   "cell_type": "code",
   "execution_count": 40,
   "metadata": {},
   "outputs": [
    {
     "name": "stdout",
     "output_type": "stream",
     "text": [
      "El valor de x1 es:  -1500.0\n",
      "El valor de x2 es:  -1500\n",
      "El valor de x3 es:  -1500.0\n",
      "El valor de x4 es:  -190000.0\n",
      "El valor de x5 es:  -190000.0\n",
      "El valor de x6 es:  50.0\n",
      "El valor de x7 es:  50.0\n"
     ]
    }
   ],
   "source": [
    "calculos1()"
   ]
  },
  {
   "cell_type": "markdown",
   "metadata": {},
   "source": [
    "## Ejercicio N° 2.3\n",
    "\n",
    "Escribir un programa que le asigne a a,b,c los valores 10.0,100.0 y 1000.0 respectivamente y evalue las expresiones del ejercicio anterior "
   ]
  },
  {
   "cell_type": "code",
   "execution_count": 41,
   "metadata": {},
   "outputs": [],
   "source": [
    "a = 10.0\n",
    "b = 100.0\n",
    "c = 1000.0\n",
    "def calculos2():\n",
    "    x1 = ((b * b)- (4 * a * c)) / (2 * a)\n",
    "    x2 = ((b * b)- (4 * a * c)) // (2 * a)\n",
    "    x3 = (b * b - 4 * a * c) / (2 * a)\n",
    "    x4 = b * b- 4 * a * c / 2 * a\n",
    "    x5 = (b * b)- (4 * a * c / 2 * a)\n",
    "    x6 = 1 / 2 * b\n",
    "    x7 = b / 2\n",
    "    print(\"El valor de x1 es: \", x1)\n",
    "    print(\"El valor de x2 es: \", x2)\n",
    "    print(\"El valor de x3 es: \", x3)\n",
    "    print(\"El valor de x4 es: \", x4)\n",
    "    print(\"El valor de x5 es: \", x5)\n",
    "    print(\"El valor de x6 es: \", x6)\n",
    "    print(\"El valor de x7 es: \", x7)"
   ]
  },
  {
   "cell_type": "code",
   "execution_count": 42,
   "metadata": {},
   "outputs": [
    {
     "name": "stdout",
     "output_type": "stream",
     "text": [
      "El valor de x1 es:  -1500.0\n",
      "El valor de x2 es:  -1500.0\n",
      "El valor de x3 es:  -1500.0\n",
      "El valor de x4 es:  -190000.0\n",
      "El valor de x5 es:  -190000.0\n",
      "El valor de x6 es:  50.0\n",
      "El valor de x7 es:  50.0\n"
     ]
    }
   ],
   "source": [
    "calculos2()"
   ]
  },
  {
   "cell_type": "code",
   "execution_count": null,
   "metadata": {},
   "outputs": [],
   "source": []
  }
 ],
 "metadata": {
  "kernelspec": {
   "display_name": "Python 3",
   "language": "python",
   "name": "python3"
  },
  "language_info": {
   "codemirror_mode": {
    "name": "ipython",
    "version": 3
   },
   "file_extension": ".py",
   "mimetype": "text/x-python",
   "name": "python",
   "nbconvert_exporter": "python",
   "pygments_lexer": "ipython3",
   "version": "3.7.1"
  }
 },
 "nbformat": 4,
 "nbformat_minor": 2
}
