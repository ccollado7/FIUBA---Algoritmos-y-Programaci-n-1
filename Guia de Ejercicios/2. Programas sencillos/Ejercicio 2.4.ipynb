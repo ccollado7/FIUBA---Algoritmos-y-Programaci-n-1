{
 "cells": [
  {
   "cell_type": "markdown",
   "metadata": {},
   "source": [
    "### Ejercicio 2.4\n",
    "\n",
    "Escribir un programa que imprima todos los numeros pares entre dos numeros que se le pidan al usuario"
   ]
  },
  {
   "cell_type": "code",
   "execution_count": 3,
   "metadata": {},
   "outputs": [],
   "source": [
    "def numeros():\n",
    "    '''Este programa solicita al usuario 2 numeros enteros e imprime todos los numeros pares cont2enidos entre esos dos numeros'''\n",
    "    n1 = int(input(\"Por favor ingrese el 1° numero: \"))\n",
    "    n2 = int(input(\"Por favor ingrese el 2° numero (tiene que ser mayor al 1° numero): \"))\n",
    "    \n",
    "    if n1%2 == 0:\n",
    "        for i in range(n1,(n2+1),2):\n",
    "            print(i)\n",
    "    elif (n1+1)%2 == 0:\n",
    "        for i in range((n1+1),(n2+1),2):\n",
    "            print(i)\n",
    "    else:\n",
    "        print(\"error\")"
   ]
  },
  {
   "cell_type": "code",
   "execution_count": 6,
   "metadata": {},
   "outputs": [
    {
     "name": "stdout",
     "output_type": "stream",
     "text": [
      "Por favor ingrese el 1° numero: 0\n",
      "Por favor ingrese el 2° numero (tiene que ser mayor al 1° numero): 10\n",
      "0\n",
      "2\n",
      "4\n",
      "6\n",
      "8\n",
      "10\n"
     ]
    }
   ],
   "source": [
    "numeros()"
   ]
  }
 ],
 "metadata": {
  "kernelspec": {
   "display_name": "Python 3",
   "language": "python",
   "name": "python3"
  },
  "language_info": {
   "codemirror_mode": {
    "name": "ipython",
    "version": 3
   },
   "file_extension": ".py",
   "mimetype": "text/x-python",
   "name": "python",
   "nbconvert_exporter": "python",
   "pygments_lexer": "ipython3",
   "version": "3.7.1"
  }
 },
 "nbformat": 4,
 "nbformat_minor": 2
}
